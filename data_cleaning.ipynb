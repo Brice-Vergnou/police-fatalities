{
 "cells": [
  {
   "cell_type": "code",
   "execution_count": 1,
   "id": "31f6cbeb",
   "metadata": {},
   "outputs": [],
   "source": [
    "import numpy as np\n",
    "import pandas as pd\n",
    "import seaborn as sns\n",
    "import matplotlib.pyplot as plt"
   ]
  },
  {
   "cell_type": "code",
   "execution_count": 11,
   "id": "65951c9b",
   "metadata": {},
   "outputs": [
    {
     "name": "stdout",
     "output_type": "stream",
     "text": [
      "Archive:  fatal-police-shootings-in-the-us.zip\n",
      "  inflating: ./MedianHouseholdIncome2015.csv  \n",
      "  inflating: ./PercentOver25CompletedHighSchool.csv  \n",
      "  inflating: ./PercentagePeopleBelowPovertyLevel.csv  \n",
      "  inflating: ./PoliceKillingsUS.csv  \n",
      "  inflating: ./ShareRaceByCity.csv   \n"
     ]
    }
   ],
   "source": [
    "# !kaggle datasets download -d kwullum/fatal-police-shootings-in-the-us\n",
    "!unzip fatal-police-shootings-in-the-us.zip -d .\n",
    "!rm fatal-police-shootings-in-the-us.zip"
   ]
  },
  {
   "cell_type": "code",
   "execution_count": 2,
   "id": "567eba28",
   "metadata": {},
   "outputs": [
    {
     "data": {
      "text/plain": [
       "'cp1252'"
      ]
     },
     "execution_count": 2,
     "metadata": {},
     "output_type": "execute_result"
    }
   ],
   "source": [
    "# I would get this error if i tried to load it as an utf-8\n",
    "# UnicodeDecodeError: 'utf-8' codec can't decode byte 0xf6 in position 68014: invalid start byte\n",
    "with open(\"ShareRaceByCity.csv\") as src_file:\n",
    "        result =  src_file.encoding\n",
    "result"
   ]
  },
  {
   "cell_type": "code",
   "execution_count": 2,
   "id": "f8ae55af",
   "metadata": {},
   "outputs": [],
   "source": [
    "# We then have Windows-1252 formatted files\n",
    "\n",
    "df_hh_income = pd.read_csv('MedianHouseholdIncome2015.csv', encoding='windows-1252')\n",
    "df_pct_poverty = pd.read_csv('PercentagePeopleBelowPovertyLevel.csv', encoding='windows-1252')\n",
    "df_pct_completed_hs = pd.read_csv('PercentOver25CompletedHighSchool.csv', encoding='windows-1252')\n",
    "df_share_race_city = pd.read_csv('ShareRaceByCity.csv', encoding='windows-1252')\n",
    "df_fatalities = pd.read_csv('PoliceKillingsUS.csv', encoding='windows-1252')"
   ]
  },
  {
   "cell_type": "markdown",
   "id": "738a6f60",
   "metadata": {},
   "source": [
    "## Preliminary data exploration"
   ]
  },
  {
   "cell_type": "markdown",
   "id": "61d15012",
   "metadata": {},
   "source": [
    "We're going to look at the features, what are the missing values and how we could feature engineer these databases.\n",
    "\n",
    "The explanations of the code will be written for the first dataset, and then they'll be roughly the same"
   ]
  },
  {
   "cell_type": "markdown",
   "id": "ba6f1a21",
   "metadata": {},
   "source": [
    "### Median Household Income"
   ]
  },
  {
   "cell_type": "code",
   "execution_count": 4,
   "id": "2cb59a01",
   "metadata": {},
   "outputs": [
    {
     "data": {
      "text/plain": [
       "(29322, 3)"
      ]
     },
     "execution_count": 4,
     "metadata": {},
     "output_type": "execute_result"
    }
   ],
   "source": [
    "#How many columns and rows ?\n",
    "df_hh_income.shape"
   ]
  },
  {
   "cell_type": "code",
   "execution_count": 5,
   "id": "9ee79098",
   "metadata": {},
   "outputs": [
    {
     "data": {
      "text/html": [
       "<div>\n",
       "<style scoped>\n",
       "    .dataframe tbody tr th:only-of-type {\n",
       "        vertical-align: middle;\n",
       "    }\n",
       "\n",
       "    .dataframe tbody tr th {\n",
       "        vertical-align: top;\n",
       "    }\n",
       "\n",
       "    .dataframe thead th {\n",
       "        text-align: right;\n",
       "    }\n",
       "</style>\n",
       "<table border=\"1\" class=\"dataframe\">\n",
       "  <thead>\n",
       "    <tr style=\"text-align: right;\">\n",
       "      <th></th>\n",
       "      <th>Geographic Area</th>\n",
       "      <th>City</th>\n",
       "      <th>Median Income</th>\n",
       "    </tr>\n",
       "  </thead>\n",
       "  <tbody>\n",
       "    <tr>\n",
       "      <th>0</th>\n",
       "      <td>AL</td>\n",
       "      <td>Abanda CDP</td>\n",
       "      <td>11207</td>\n",
       "    </tr>\n",
       "    <tr>\n",
       "      <th>1</th>\n",
       "      <td>AL</td>\n",
       "      <td>Abbeville city</td>\n",
       "      <td>25615</td>\n",
       "    </tr>\n",
       "    <tr>\n",
       "      <th>2</th>\n",
       "      <td>AL</td>\n",
       "      <td>Adamsville city</td>\n",
       "      <td>42575</td>\n",
       "    </tr>\n",
       "    <tr>\n",
       "      <th>3</th>\n",
       "      <td>AL</td>\n",
       "      <td>Addison town</td>\n",
       "      <td>37083</td>\n",
       "    </tr>\n",
       "    <tr>\n",
       "      <th>4</th>\n",
       "      <td>AL</td>\n",
       "      <td>Akron town</td>\n",
       "      <td>21667</td>\n",
       "    </tr>\n",
       "  </tbody>\n",
       "</table>\n",
       "</div>"
      ],
      "text/plain": [
       "  Geographic Area             City Median Income\n",
       "0              AL       Abanda CDP         11207\n",
       "1              AL   Abbeville city         25615\n",
       "2              AL  Adamsville city         42575\n",
       "3              AL     Addison town         37083\n",
       "4              AL       Akron town         21667"
      ]
     },
     "execution_count": 5,
     "metadata": {},
     "output_type": "execute_result"
    }
   ],
   "source": [
    "#Quick view of the features\n",
    "df_hh_income.head()"
   ]
  },
  {
   "cell_type": "code",
   "execution_count": 98,
   "id": "a434e9e8",
   "metadata": {},
   "outputs": [
    {
     "data": {
      "text/html": [
       "<div>\n",
       "<style scoped>\n",
       "    .dataframe tbody tr th:only-of-type {\n",
       "        vertical-align: middle;\n",
       "    }\n",
       "\n",
       "    .dataframe tbody tr th {\n",
       "        vertical-align: top;\n",
       "    }\n",
       "\n",
       "    .dataframe thead th {\n",
       "        text-align: right;\n",
       "    }\n",
       "</style>\n",
       "<table border=\"1\" class=\"dataframe\">\n",
       "  <thead>\n",
       "    <tr style=\"text-align: right;\">\n",
       "      <th></th>\n",
       "      <th>Geographic Area</th>\n",
       "      <th>City</th>\n",
       "      <th>Median Income</th>\n",
       "    </tr>\n",
       "  </thead>\n",
       "  <tbody>\n",
       "    <tr>\n",
       "      <th>count</th>\n",
       "      <td>29322</td>\n",
       "      <td>29322</td>\n",
       "      <td>29271</td>\n",
       "    </tr>\n",
       "    <tr>\n",
       "      <th>unique</th>\n",
       "      <td>51</td>\n",
       "      <td>24249</td>\n",
       "      <td>14592</td>\n",
       "    </tr>\n",
       "    <tr>\n",
       "      <th>top</th>\n",
       "      <td>PA</td>\n",
       "      <td>Franklin city</td>\n",
       "      <td>(X)</td>\n",
       "    </tr>\n",
       "    <tr>\n",
       "      <th>freq</th>\n",
       "      <td>1762</td>\n",
       "      <td>16</td>\n",
       "      <td>1113</td>\n",
       "    </tr>\n",
       "  </tbody>\n",
       "</table>\n",
       "</div>"
      ],
      "text/plain": [
       "       Geographic Area           City Median Income\n",
       "count            29322          29322         29271\n",
       "unique              51          24249         14592\n",
       "top                 PA  Franklin city           (X)\n",
       "freq              1762             16          1113"
      ]
     },
     "execution_count": 98,
     "metadata": {},
     "output_type": "execute_result"
    }
   ],
   "source": [
    "df_hh_income.describe()"
   ]
  },
  {
   "cell_type": "code",
   "execution_count": 6,
   "id": "794b32d3",
   "metadata": {},
   "outputs": [
    {
     "data": {
      "text/plain": [
       "array(['AL', 'AK', 'AZ', 'AR', 'CA', 'CO', 'CT', 'DE', 'DC', 'FL', 'GA',\n",
       "       'HI', 'ID', 'IL', 'IN', 'IA', 'KS', 'KY', 'LA', 'ME', 'MD', 'MA',\n",
       "       'MI', 'MN', 'MS', 'MO', 'MT', 'NE', 'NV', 'NH', 'NJ', 'NM', 'NY',\n",
       "       'NC', 'ND', 'OH', 'OK', 'OR', 'PA', 'RI', 'SC', 'SD', 'TN', 'TX',\n",
       "       'UT', 'VT', 'VA', 'WA', 'WV', 'WI', 'WY'], dtype=object)"
      ]
     },
     "execution_count": 6,
     "metadata": {},
     "output_type": "execute_result"
    }
   ],
   "source": [
    "#Quick view of the values ( and check if nothing is missing )\n",
    "pd.unique(df_hh_income[\"Geographic Area\"].values)"
   ]
  },
  {
   "cell_type": "code",
   "execution_count": 7,
   "id": "b199bd28",
   "metadata": {},
   "outputs": [
    {
     "data": {
      "text/plain": [
       "array(['Abanda CDP', 'Abbeville city', 'Adamsville city', ...,\n",
       "       'Wright town', 'Yoder town', 'Y-O Ranch CDP'], dtype=object)"
      ]
     },
     "execution_count": 7,
     "metadata": {},
     "output_type": "execute_result"
    }
   ],
   "source": [
    "pd.unique(df_hh_income[\"City\"].values)"
   ]
  },
  {
   "cell_type": "code",
   "execution_count": 8,
   "id": "f8e8eab2",
   "metadata": {},
   "outputs": [
    {
     "name": "stdout",
     "output_type": "stream",
     "text": [
      "<class 'pandas.core.frame.DataFrame'>\n",
      "RangeIndex: 29322 entries, 0 to 29321\n",
      "Data columns (total 3 columns):\n",
      " #   Column           Non-Null Count  Dtype \n",
      "---  ------           --------------  ----- \n",
      " 0   Geographic Area  29322 non-null  object\n",
      " 1   City             29322 non-null  object\n",
      " 2   Median Income    29271 non-null  object\n",
      "dtypes: object(3)\n",
      "memory usage: 687.4+ KB\n"
     ]
    }
   ],
   "source": [
    "df_hh_income.info()"
   ]
  },
  {
   "cell_type": "markdown",
   "id": "a56fc57a",
   "metadata": {},
   "source": [
    "**Even median income has to be converted**"
   ]
  },
  {
   "cell_type": "code",
   "execution_count": 9,
   "id": "cce79f65",
   "metadata": {},
   "outputs": [
    {
     "data": {
      "text/plain": [
       "Geographic Area     0\n",
       "City                0\n",
       "Median Income      51\n",
       "dtype: int64"
      ]
     },
     "execution_count": 9,
     "metadata": {},
     "output_type": "execute_result"
    }
   ],
   "source": [
    "# Check missing values\n",
    "df_hh_income.isnull().sum()"
   ]
  },
  {
   "cell_type": "markdown",
   "id": "5b201e22",
   "metadata": {},
   "source": [
    "#### Is there something else than valid numbers ?"
   ]
  },
  {
   "cell_type": "code",
   "execution_count": 10,
   "id": "31e77ef3",
   "metadata": {},
   "outputs": [
    {
     "data": {
      "text/plain": [
       "array(['(', 'X', ')', '-', ',', '+'], dtype=object)"
      ]
     },
     "execution_count": 10,
     "metadata": {},
     "output_type": "execute_result"
    }
   ],
   "source": [
    "# Check if there is something that is not a number in the income column\n",
    "pd.unique(df_hh_income[\"Median Income\"].str.extractall(r\"([\\D])\").values.ravel())"
   ]
  },
  {
   "cell_type": "code",
   "execution_count": 11,
   "id": "47e46e9d",
   "metadata": {},
   "outputs": [
    {
     "data": {
      "text/html": [
       "<div>\n",
       "<style scoped>\n",
       "    .dataframe tbody tr th:only-of-type {\n",
       "        vertical-align: middle;\n",
       "    }\n",
       "\n",
       "    .dataframe tbody tr th {\n",
       "        vertical-align: top;\n",
       "    }\n",
       "\n",
       "    .dataframe thead th {\n",
       "        text-align: right;\n",
       "    }\n",
       "</style>\n",
       "<table border=\"1\" class=\"dataframe\">\n",
       "  <thead>\n",
       "    <tr style=\"text-align: right;\">\n",
       "      <th></th>\n",
       "      <th></th>\n",
       "      <th>0</th>\n",
       "    </tr>\n",
       "    <tr>\n",
       "      <th></th>\n",
       "      <th>match</th>\n",
       "      <th></th>\n",
       "    </tr>\n",
       "  </thead>\n",
       "  <tbody>\n",
       "    <tr>\n",
       "      <th>1347</th>\n",
       "      <th>0</th>\n",
       "      <td>,</td>\n",
       "    </tr>\n",
       "    <tr>\n",
       "      <th>1992</th>\n",
       "      <th>0</th>\n",
       "      <td>,</td>\n",
       "    </tr>\n",
       "    <tr>\n",
       "      <th>2611</th>\n",
       "      <th>0</th>\n",
       "      <td>,</td>\n",
       "    </tr>\n",
       "    <tr>\n",
       "      <th>2628</th>\n",
       "      <th>0</th>\n",
       "      <td>,</td>\n",
       "    </tr>\n",
       "    <tr>\n",
       "      <th>2885</th>\n",
       "      <th>0</th>\n",
       "      <td>,</td>\n",
       "    </tr>\n",
       "  </tbody>\n",
       "</table>\n",
       "</div>"
      ],
      "text/plain": [
       "            0\n",
       "     match   \n",
       "1347 0      ,\n",
       "1992 0      ,\n",
       "2611 0      ,\n",
       "2628 0      ,\n",
       "2885 0      ,"
      ]
     },
     "execution_count": 11,
     "metadata": {},
     "output_type": "execute_result"
    }
   ],
   "source": [
    "df_hh_income[\"Median Income\"].str.extractall(r\"([,])\").head()"
   ]
  },
  {
   "cell_type": "code",
   "execution_count": 12,
   "id": "0eecf6c1",
   "metadata": {},
   "outputs": [
    {
     "data": {
      "text/html": [
       "<div>\n",
       "<style scoped>\n",
       "    .dataframe tbody tr th:only-of-type {\n",
       "        vertical-align: middle;\n",
       "    }\n",
       "\n",
       "    .dataframe tbody tr th {\n",
       "        vertical-align: top;\n",
       "    }\n",
       "\n",
       "    .dataframe thead th {\n",
       "        text-align: right;\n",
       "    }\n",
       "</style>\n",
       "<table border=\"1\" class=\"dataframe\">\n",
       "  <thead>\n",
       "    <tr style=\"text-align: right;\">\n",
       "      <th></th>\n",
       "      <th></th>\n",
       "      <th>0</th>\n",
       "    </tr>\n",
       "    <tr>\n",
       "      <th></th>\n",
       "      <th>match</th>\n",
       "      <th></th>\n",
       "    </tr>\n",
       "  </thead>\n",
       "  <tbody>\n",
       "    <tr>\n",
       "      <th>71</th>\n",
       "      <th>0</th>\n",
       "      <td>-</td>\n",
       "    </tr>\n",
       "    <tr>\n",
       "      <th>74</th>\n",
       "      <th>0</th>\n",
       "      <td>-</td>\n",
       "    </tr>\n",
       "    <tr>\n",
       "      <th>84</th>\n",
       "      <th>0</th>\n",
       "      <td>-</td>\n",
       "    </tr>\n",
       "    <tr>\n",
       "      <th>338</th>\n",
       "      <th>0</th>\n",
       "      <td>-</td>\n",
       "    </tr>\n",
       "    <tr>\n",
       "      <th>462</th>\n",
       "      <th>0</th>\n",
       "      <td>-</td>\n",
       "    </tr>\n",
       "  </tbody>\n",
       "</table>\n",
       "</div>"
      ],
      "text/plain": [
       "           0\n",
       "    match   \n",
       "71  0      -\n",
       "74  0      -\n",
       "84  0      -\n",
       "338 0      -\n",
       "462 0      -"
      ]
     },
     "execution_count": 12,
     "metadata": {},
     "output_type": "execute_result"
    }
   ],
   "source": [
    "df_hh_income[\"Median Income\"].str.extractall(r\"([-])\").head()"
   ]
  },
  {
   "cell_type": "code",
   "execution_count": 13,
   "id": "8f600103",
   "metadata": {},
   "outputs": [
    {
     "data": {
      "text/plain": [
       "Geographic Area             AL\n",
       "City               Benton town\n",
       "Median Income              (X)\n",
       "Name: 44, dtype: object"
      ]
     },
     "execution_count": 13,
     "metadata": {},
     "output_type": "execute_result"
    }
   ],
   "source": [
    "# Apparently some missing data are described with (X)\n",
    "df_hh_income.iloc[44]"
   ]
  },
  {
   "cell_type": "code",
   "execution_count": 14,
   "id": "7f424b0f",
   "metadata": {},
   "outputs": [
    {
     "data": {
      "text/plain": [
       "Geographic Area               CA\n",
       "City               Atherton town\n",
       "Median Income           250,000+\n",
       "Name: 1992, dtype: object"
      ]
     },
     "execution_count": 14,
     "metadata": {},
     "output_type": "execute_result"
    }
   ],
   "source": [
    "# and we seem to have numbers with commas and +/- to indicate superior/inferior boundaries\n",
    "df_hh_income.iloc[1992]"
   ]
  },
  {
   "cell_type": "code",
   "execution_count": 15,
   "id": "95e265fd",
   "metadata": {},
   "outputs": [
    {
     "data": {
      "text/plain": [
       "Geographic Area           AL\n",
       "City               Bucks CDP\n",
       "Median Income              -\n",
       "Name: 71, dtype: object"
      ]
     },
     "execution_count": 15,
     "metadata": {},
     "output_type": "execute_result"
    }
   ],
   "source": [
    "# And some - are used to show null values\n",
    "df_hh_income.iloc[71]"
   ]
  },
  {
   "cell_type": "markdown",
   "id": "8f72dd6b",
   "metadata": {},
   "source": [
    "### Percentage People Below Poverty Level"
   ]
  },
  {
   "cell_type": "code",
   "execution_count": 16,
   "id": "43125a96",
   "metadata": {},
   "outputs": [
    {
     "data": {
      "text/plain": [
       "(29329, 3)"
      ]
     },
     "execution_count": 16,
     "metadata": {},
     "output_type": "execute_result"
    }
   ],
   "source": [
    "df_pct_poverty.shape"
   ]
  },
  {
   "cell_type": "code",
   "execution_count": 17,
   "id": "7e3bf668",
   "metadata": {},
   "outputs": [
    {
     "data": {
      "text/html": [
       "<div>\n",
       "<style scoped>\n",
       "    .dataframe tbody tr th:only-of-type {\n",
       "        vertical-align: middle;\n",
       "    }\n",
       "\n",
       "    .dataframe tbody tr th {\n",
       "        vertical-align: top;\n",
       "    }\n",
       "\n",
       "    .dataframe thead th {\n",
       "        text-align: right;\n",
       "    }\n",
       "</style>\n",
       "<table border=\"1\" class=\"dataframe\">\n",
       "  <thead>\n",
       "    <tr style=\"text-align: right;\">\n",
       "      <th></th>\n",
       "      <th>Geographic Area</th>\n",
       "      <th>City</th>\n",
       "      <th>poverty_rate</th>\n",
       "    </tr>\n",
       "  </thead>\n",
       "  <tbody>\n",
       "    <tr>\n",
       "      <th>0</th>\n",
       "      <td>AL</td>\n",
       "      <td>Abanda CDP</td>\n",
       "      <td>78.8</td>\n",
       "    </tr>\n",
       "    <tr>\n",
       "      <th>1</th>\n",
       "      <td>AL</td>\n",
       "      <td>Abbeville city</td>\n",
       "      <td>29.1</td>\n",
       "    </tr>\n",
       "    <tr>\n",
       "      <th>2</th>\n",
       "      <td>AL</td>\n",
       "      <td>Adamsville city</td>\n",
       "      <td>25.5</td>\n",
       "    </tr>\n",
       "    <tr>\n",
       "      <th>3</th>\n",
       "      <td>AL</td>\n",
       "      <td>Addison town</td>\n",
       "      <td>30.7</td>\n",
       "    </tr>\n",
       "    <tr>\n",
       "      <th>4</th>\n",
       "      <td>AL</td>\n",
       "      <td>Akron town</td>\n",
       "      <td>42</td>\n",
       "    </tr>\n",
       "  </tbody>\n",
       "</table>\n",
       "</div>"
      ],
      "text/plain": [
       "  Geographic Area             City poverty_rate\n",
       "0              AL       Abanda CDP         78.8\n",
       "1              AL   Abbeville city         29.1\n",
       "2              AL  Adamsville city         25.5\n",
       "3              AL     Addison town         30.7\n",
       "4              AL       Akron town           42"
      ]
     },
     "execution_count": 17,
     "metadata": {},
     "output_type": "execute_result"
    }
   ],
   "source": [
    "df_pct_poverty.head()"
   ]
  },
  {
   "cell_type": "markdown",
   "id": "1ee29cc4",
   "metadata": {},
   "source": [
    "**We could merge the two first datasets together for better usability**"
   ]
  },
  {
   "cell_type": "code",
   "execution_count": 18,
   "id": "e51d17d4",
   "metadata": {},
   "outputs": [
    {
     "name": "stdout",
     "output_type": "stream",
     "text": [
      "<class 'pandas.core.frame.DataFrame'>\n",
      "RangeIndex: 29329 entries, 0 to 29328\n",
      "Data columns (total 3 columns):\n",
      " #   Column           Non-Null Count  Dtype \n",
      "---  ------           --------------  ----- \n",
      " 0   Geographic Area  29329 non-null  object\n",
      " 1   City             29329 non-null  object\n",
      " 2   poverty_rate     29329 non-null  object\n",
      "dtypes: object(3)\n",
      "memory usage: 687.5+ KB\n"
     ]
    }
   ],
   "source": [
    "df_pct_poverty.info()"
   ]
  },
  {
   "cell_type": "code",
   "execution_count": 19,
   "id": "dc96d4b8",
   "metadata": {},
   "outputs": [
    {
     "data": {
      "text/plain": [
       "Geographic Area    0\n",
       "City               0\n",
       "poverty_rate       0\n",
       "dtype: int64"
      ]
     },
     "execution_count": 19,
     "metadata": {},
     "output_type": "execute_result"
    }
   ],
   "source": [
    "df_pct_poverty.isnull().sum()"
   ]
  },
  {
   "cell_type": "code",
   "execution_count": 20,
   "id": "2a05dd36",
   "metadata": {},
   "outputs": [
    {
     "data": {
      "text/plain": [
       "array(['AL', 'AK', 'AZ', 'AR', 'CA', 'CO', 'CT', 'DE', 'DC', 'FL', 'GA',\n",
       "       'HI', 'ID', 'IL', 'IN', 'IA', 'KS', 'KY', 'LA', 'ME', 'MD', 'MA',\n",
       "       'MI', 'MN', 'MS', 'MO', 'MT', 'NE', 'NV', 'NH', 'NJ', 'NM', 'NY',\n",
       "       'NC', 'ND', 'OH', 'OK', 'OR', 'PA', 'RI', 'SC', 'SD', 'TN', 'TX',\n",
       "       'UT', 'VT', 'VA', 'WA', 'WV', 'WI', 'WY'], dtype=object)"
      ]
     },
     "execution_count": 20,
     "metadata": {},
     "output_type": "execute_result"
    }
   ],
   "source": [
    "pd.unique(df_pct_poverty[\"Geographic Area\"].values)"
   ]
  },
  {
   "cell_type": "code",
   "execution_count": 21,
   "id": "7852b11d",
   "metadata": {},
   "outputs": [
    {
     "data": {
      "text/plain": [
       "array(['Abanda CDP', 'Abbeville city', 'Adamsville city', ...,\n",
       "       'Wright town', 'Yoder town', 'Y-O Ranch CDP'], dtype=object)"
      ]
     },
     "execution_count": 21,
     "metadata": {},
     "output_type": "execute_result"
    }
   ],
   "source": [
    "pd.unique(df_pct_poverty[\"City\"].values)"
   ]
  },
  {
   "cell_type": "code",
   "execution_count": 22,
   "id": "fda2c8bb",
   "metadata": {},
   "outputs": [
    {
     "data": {
      "text/plain": [
       "array(['.', '-'], dtype=object)"
      ]
     },
     "execution_count": 22,
     "metadata": {},
     "output_type": "execute_result"
    }
   ],
   "source": [
    "pd.unique(df_pct_poverty[\"poverty_rate\"].str.extractall(r\"([\\D])\").values.ravel())"
   ]
  },
  {
   "cell_type": "code",
   "execution_count": 23,
   "id": "b3fec09d",
   "metadata": {},
   "outputs": [
    {
     "data": {
      "text/html": [
       "<div>\n",
       "<style scoped>\n",
       "    .dataframe tbody tr th:only-of-type {\n",
       "        vertical-align: middle;\n",
       "    }\n",
       "\n",
       "    .dataframe tbody tr th {\n",
       "        vertical-align: top;\n",
       "    }\n",
       "\n",
       "    .dataframe thead th {\n",
       "        text-align: right;\n",
       "    }\n",
       "</style>\n",
       "<table border=\"1\" class=\"dataframe\">\n",
       "  <thead>\n",
       "    <tr style=\"text-align: right;\">\n",
       "      <th></th>\n",
       "      <th></th>\n",
       "      <th>0</th>\n",
       "    </tr>\n",
       "    <tr>\n",
       "      <th></th>\n",
       "      <th>match</th>\n",
       "      <th></th>\n",
       "    </tr>\n",
       "  </thead>\n",
       "  <tbody>\n",
       "    <tr>\n",
       "      <th>573</th>\n",
       "      <th>0</th>\n",
       "      <td>-</td>\n",
       "    </tr>\n",
       "    <tr>\n",
       "      <th>608</th>\n",
       "      <th>0</th>\n",
       "      <td>-</td>\n",
       "    </tr>\n",
       "    <tr>\n",
       "      <th>632</th>\n",
       "      <th>0</th>\n",
       "      <td>-</td>\n",
       "    </tr>\n",
       "    <tr>\n",
       "      <th>637</th>\n",
       "      <th>0</th>\n",
       "      <td>-</td>\n",
       "    </tr>\n",
       "    <tr>\n",
       "      <th>662</th>\n",
       "      <th>0</th>\n",
       "      <td>-</td>\n",
       "    </tr>\n",
       "  </tbody>\n",
       "</table>\n",
       "</div>"
      ],
      "text/plain": [
       "           0\n",
       "    match   \n",
       "573 0      -\n",
       "608 0      -\n",
       "632 0      -\n",
       "637 0      -\n",
       "662 0      -"
      ]
     },
     "execution_count": 23,
     "metadata": {},
     "output_type": "execute_result"
    }
   ],
   "source": [
    "df_pct_poverty[\"poverty_rate\"].str.extractall(r\"(-)\").head()"
   ]
  },
  {
   "cell_type": "code",
   "execution_count": 24,
   "id": "3184b0c8",
   "metadata": {},
   "outputs": [
    {
     "data": {
      "text/plain": [
       "Geographic Area             AL\n",
       "City               Whatley CDP\n",
       "poverty_rate                 -\n",
       "Name: 573, dtype: object"
      ]
     },
     "execution_count": 24,
     "metadata": {},
     "output_type": "execute_result"
    }
   ],
   "source": [
    "# - is used to show null values\n",
    "df_pct_poverty.iloc[573]"
   ]
  },
  {
   "cell_type": "markdown",
   "id": "8d3d13d7",
   "metadata": {},
   "source": [
    "### Percent Over 25 Completed HighSchool"
   ]
  },
  {
   "cell_type": "code",
   "execution_count": 14,
   "id": "a66ccf88",
   "metadata": {},
   "outputs": [
    {
     "data": {
      "text/plain": [
       "(29329, 3)"
      ]
     },
     "execution_count": 14,
     "metadata": {},
     "output_type": "execute_result"
    }
   ],
   "source": [
    "df_pct_completed_hs.shape"
   ]
  },
  {
   "cell_type": "code",
   "execution_count": 15,
   "id": "09fb3b17",
   "metadata": {},
   "outputs": [
    {
     "data": {
      "text/html": [
       "<div>\n",
       "<style scoped>\n",
       "    .dataframe tbody tr th:only-of-type {\n",
       "        vertical-align: middle;\n",
       "    }\n",
       "\n",
       "    .dataframe tbody tr th {\n",
       "        vertical-align: top;\n",
       "    }\n",
       "\n",
       "    .dataframe thead th {\n",
       "        text-align: right;\n",
       "    }\n",
       "</style>\n",
       "<table border=\"1\" class=\"dataframe\">\n",
       "  <thead>\n",
       "    <tr style=\"text-align: right;\">\n",
       "      <th></th>\n",
       "      <th>Geographic Area</th>\n",
       "      <th>City</th>\n",
       "      <th>percent_completed_hs</th>\n",
       "    </tr>\n",
       "  </thead>\n",
       "  <tbody>\n",
       "    <tr>\n",
       "      <th>0</th>\n",
       "      <td>AL</td>\n",
       "      <td>Abanda CDP</td>\n",
       "      <td>21.2</td>\n",
       "    </tr>\n",
       "    <tr>\n",
       "      <th>1</th>\n",
       "      <td>AL</td>\n",
       "      <td>Abbeville city</td>\n",
       "      <td>69.1</td>\n",
       "    </tr>\n",
       "    <tr>\n",
       "      <th>2</th>\n",
       "      <td>AL</td>\n",
       "      <td>Adamsville city</td>\n",
       "      <td>78.9</td>\n",
       "    </tr>\n",
       "    <tr>\n",
       "      <th>3</th>\n",
       "      <td>AL</td>\n",
       "      <td>Addison town</td>\n",
       "      <td>81.4</td>\n",
       "    </tr>\n",
       "    <tr>\n",
       "      <th>4</th>\n",
       "      <td>AL</td>\n",
       "      <td>Akron town</td>\n",
       "      <td>68.6</td>\n",
       "    </tr>\n",
       "  </tbody>\n",
       "</table>\n",
       "</div>"
      ],
      "text/plain": [
       "  Geographic Area             City percent_completed_hs\n",
       "0              AL       Abanda CDP                 21.2\n",
       "1              AL   Abbeville city                 69.1\n",
       "2              AL  Adamsville city                 78.9\n",
       "3              AL     Addison town                 81.4\n",
       "4              AL       Akron town                 68.6"
      ]
     },
     "execution_count": 15,
     "metadata": {},
     "output_type": "execute_result"
    }
   ],
   "source": [
    "df_pct_completed_hs.head()"
   ]
  },
  {
   "cell_type": "code",
   "execution_count": 16,
   "id": "b54e77f4",
   "metadata": {},
   "outputs": [
    {
     "name": "stdout",
     "output_type": "stream",
     "text": [
      "<class 'pandas.core.frame.DataFrame'>\n",
      "RangeIndex: 29329 entries, 0 to 29328\n",
      "Data columns (total 3 columns):\n",
      " #   Column                Non-Null Count  Dtype \n",
      "---  ------                --------------  ----- \n",
      " 0   Geographic Area       29329 non-null  object\n",
      " 1   City                  29329 non-null  object\n",
      " 2   percent_completed_hs  29329 non-null  object\n",
      "dtypes: object(3)\n",
      "memory usage: 687.5+ KB\n"
     ]
    }
   ],
   "source": [
    "df_pct_completed_hs.info()"
   ]
  },
  {
   "cell_type": "code",
   "execution_count": 17,
   "id": "4d84c93e",
   "metadata": {},
   "outputs": [
    {
     "data": {
      "text/plain": [
       "Geographic Area         0\n",
       "City                    0\n",
       "percent_completed_hs    0\n",
       "dtype: int64"
      ]
     },
     "execution_count": 17,
     "metadata": {},
     "output_type": "execute_result"
    }
   ],
   "source": [
    "df_pct_completed_hs.isnull().sum()"
   ]
  },
  {
   "cell_type": "code",
   "execution_count": 22,
   "id": "7ccb0355",
   "metadata": {},
   "outputs": [
    {
     "data": {
      "text/plain": [
       "array(['.', '-'], dtype=object)"
      ]
     },
     "execution_count": 22,
     "metadata": {},
     "output_type": "execute_result"
    }
   ],
   "source": [
    "pd.unique(df_pct_completed_hs[\"percent_completed_hs\"].str.extractall(r\"(\\D)\").values.ravel())"
   ]
  },
  {
   "cell_type": "code",
   "execution_count": 23,
   "id": "63820761",
   "metadata": {},
   "outputs": [
    {
     "data": {
      "text/html": [
       "<div>\n",
       "<style scoped>\n",
       "    .dataframe tbody tr th:only-of-type {\n",
       "        vertical-align: middle;\n",
       "    }\n",
       "\n",
       "    .dataframe tbody tr th {\n",
       "        vertical-align: top;\n",
       "    }\n",
       "\n",
       "    .dataframe thead th {\n",
       "        text-align: right;\n",
       "    }\n",
       "</style>\n",
       "<table border=\"1\" class=\"dataframe\">\n",
       "  <thead>\n",
       "    <tr style=\"text-align: right;\">\n",
       "      <th></th>\n",
       "      <th></th>\n",
       "      <th>0</th>\n",
       "    </tr>\n",
       "    <tr>\n",
       "      <th></th>\n",
       "      <th>match</th>\n",
       "      <th></th>\n",
       "    </tr>\n",
       "  </thead>\n",
       "  <tbody>\n",
       "    <tr>\n",
       "      <th>573</th>\n",
       "      <th>0</th>\n",
       "      <td>-</td>\n",
       "    </tr>\n",
       "    <tr>\n",
       "      <th>632</th>\n",
       "      <th>0</th>\n",
       "      <td>-</td>\n",
       "    </tr>\n",
       "    <tr>\n",
       "      <th>637</th>\n",
       "      <th>0</th>\n",
       "      <td>-</td>\n",
       "    </tr>\n",
       "    <tr>\n",
       "      <th>662</th>\n",
       "      <th>0</th>\n",
       "      <td>-</td>\n",
       "    </tr>\n",
       "    <tr>\n",
       "      <th>667</th>\n",
       "      <th>0</th>\n",
       "      <td>-</td>\n",
       "    </tr>\n",
       "  </tbody>\n",
       "</table>\n",
       "</div>"
      ],
      "text/plain": [
       "           0\n",
       "    match   \n",
       "573 0      -\n",
       "632 0      -\n",
       "637 0      -\n",
       "662 0      -\n",
       "667 0      -"
      ]
     },
     "execution_count": 23,
     "metadata": {},
     "output_type": "execute_result"
    }
   ],
   "source": [
    "df_pct_completed_hs[\"percent_completed_hs\"].str.extractall(r\"(-)\").head()"
   ]
  },
  {
   "cell_type": "code",
   "execution_count": 20,
   "id": "c4cdd59d",
   "metadata": {},
   "outputs": [
    {
     "data": {
      "text/plain": [
       "Geographic Area                    AK\n",
       "City                    Edna Bay city\n",
       "percent_completed_hs                -\n",
       "Name: 667, dtype: object"
      ]
     },
     "execution_count": 20,
     "metadata": {},
     "output_type": "execute_result"
    }
   ],
   "source": [
    "df_pct_completed_hs.iloc[667]"
   ]
  },
  {
   "cell_type": "markdown",
   "id": "2ffdcabc",
   "metadata": {},
   "source": [
    "### Share Race By City"
   ]
  },
  {
   "cell_type": "code",
   "execution_count": 44,
   "id": "f8d2f8f2",
   "metadata": {},
   "outputs": [
    {
     "data": {
      "text/plain": [
       "(29268, 7)"
      ]
     },
     "execution_count": 44,
     "metadata": {},
     "output_type": "execute_result"
    }
   ],
   "source": [
    "df_share_race_city.shape"
   ]
  },
  {
   "cell_type": "code",
   "execution_count": 26,
   "id": "1eac358e",
   "metadata": {},
   "outputs": [
    {
     "data": {
      "text/html": [
       "<div>\n",
       "<style scoped>\n",
       "    .dataframe tbody tr th:only-of-type {\n",
       "        vertical-align: middle;\n",
       "    }\n",
       "\n",
       "    .dataframe tbody tr th {\n",
       "        vertical-align: top;\n",
       "    }\n",
       "\n",
       "    .dataframe thead th {\n",
       "        text-align: right;\n",
       "    }\n",
       "</style>\n",
       "<table border=\"1\" class=\"dataframe\">\n",
       "  <thead>\n",
       "    <tr style=\"text-align: right;\">\n",
       "      <th></th>\n",
       "      <th>Geographic area</th>\n",
       "      <th>City</th>\n",
       "      <th>share_white</th>\n",
       "      <th>share_black</th>\n",
       "      <th>share_native_american</th>\n",
       "      <th>share_asian</th>\n",
       "      <th>share_hispanic</th>\n",
       "    </tr>\n",
       "  </thead>\n",
       "  <tbody>\n",
       "    <tr>\n",
       "      <th>0</th>\n",
       "      <td>AL</td>\n",
       "      <td>Abanda CDP</td>\n",
       "      <td>67.2</td>\n",
       "      <td>30.2</td>\n",
       "      <td>0</td>\n",
       "      <td>0</td>\n",
       "      <td>1.6</td>\n",
       "    </tr>\n",
       "    <tr>\n",
       "      <th>1</th>\n",
       "      <td>AL</td>\n",
       "      <td>Abbeville city</td>\n",
       "      <td>54.4</td>\n",
       "      <td>41.4</td>\n",
       "      <td>0.1</td>\n",
       "      <td>1</td>\n",
       "      <td>3.1</td>\n",
       "    </tr>\n",
       "    <tr>\n",
       "      <th>2</th>\n",
       "      <td>AL</td>\n",
       "      <td>Adamsville city</td>\n",
       "      <td>52.3</td>\n",
       "      <td>44.9</td>\n",
       "      <td>0.5</td>\n",
       "      <td>0.3</td>\n",
       "      <td>2.3</td>\n",
       "    </tr>\n",
       "    <tr>\n",
       "      <th>3</th>\n",
       "      <td>AL</td>\n",
       "      <td>Addison town</td>\n",
       "      <td>99.1</td>\n",
       "      <td>0.1</td>\n",
       "      <td>0</td>\n",
       "      <td>0.1</td>\n",
       "      <td>0.4</td>\n",
       "    </tr>\n",
       "    <tr>\n",
       "      <th>4</th>\n",
       "      <td>AL</td>\n",
       "      <td>Akron town</td>\n",
       "      <td>13.2</td>\n",
       "      <td>86.5</td>\n",
       "      <td>0</td>\n",
       "      <td>0</td>\n",
       "      <td>0.3</td>\n",
       "    </tr>\n",
       "  </tbody>\n",
       "</table>\n",
       "</div>"
      ],
      "text/plain": [
       "  Geographic area             City share_white share_black  \\\n",
       "0              AL       Abanda CDP        67.2        30.2   \n",
       "1              AL   Abbeville city        54.4        41.4   \n",
       "2              AL  Adamsville city        52.3        44.9   \n",
       "3              AL     Addison town        99.1         0.1   \n",
       "4              AL       Akron town        13.2        86.5   \n",
       "\n",
       "  share_native_american share_asian share_hispanic  \n",
       "0                     0           0            1.6  \n",
       "1                   0.1           1            3.1  \n",
       "2                   0.5         0.3            2.3  \n",
       "3                     0         0.1            0.4  \n",
       "4                     0           0            0.3  "
      ]
     },
     "execution_count": 26,
     "metadata": {},
     "output_type": "execute_result"
    }
   ],
   "source": [
    "df_share_race_city.head()"
   ]
  },
  {
   "cell_type": "code",
   "execution_count": 48,
   "id": "1447301c",
   "metadata": {},
   "outputs": [
    {
     "data": {
      "text/plain": [
       "Geographic area          0\n",
       "City                     0\n",
       "share_white              0\n",
       "share_black              0\n",
       "share_native_american    0\n",
       "share_asian              0\n",
       "share_hispanic           0\n",
       "dtype: int64"
      ]
     },
     "execution_count": 48,
     "metadata": {},
     "output_type": "execute_result"
    }
   ],
   "source": [
    "df_share_race_city.isnull().sum()"
   ]
  },
  {
   "cell_type": "code",
   "execution_count": 47,
   "id": "bb569b61",
   "metadata": {},
   "outputs": [
    {
     "data": {
      "text/plain": [
       "array(['AL', 'AK', 'AZ', 'AR', 'CA', 'CO', 'CT', 'DE', 'DC', 'FL', 'GA',\n",
       "       'HI', 'ID', 'IL', 'IN', 'IA', 'KS', 'KY', 'LA', 'ME', 'MD', 'MA',\n",
       "       'MI', 'MN', 'MS', 'MO', 'MT', 'NE', 'NV', 'NH', 'NJ', 'NM', 'NY',\n",
       "       'NC', 'ND', 'OH', 'OK', 'OR', 'PA', 'RI', 'SC', 'SD', 'TN', 'TX',\n",
       "       'UT', 'VT', 'VA', 'WA', 'WV', 'WI', 'WY'], dtype=object)"
      ]
     },
     "execution_count": 47,
     "metadata": {},
     "output_type": "execute_result"
    }
   ],
   "source": [
    "pd.unique(df_share_race_city[\"Geographic area\"].values)"
   ]
  },
  {
   "cell_type": "code",
   "execution_count": 111,
   "id": "e4143914",
   "metadata": {},
   "outputs": [
    {
     "data": {
      "text/plain": [
       "array(['.'], dtype=object)"
      ]
     },
     "execution_count": 111,
     "metadata": {},
     "output_type": "execute_result"
    }
   ],
   "source": [
    "pd.unique(df_share_race_city[\"share_hispanic\"].str.extractall(r\"([\\D])\").values.ravel())"
   ]
  },
  {
   "cell_type": "code",
   "execution_count": 52,
   "id": "2e463e4d",
   "metadata": {},
   "outputs": [
    {
     "data": {
      "text/plain": [
       "array(['.', '(', 'X', ')'], dtype=object)"
      ]
     },
     "execution_count": 52,
     "metadata": {},
     "output_type": "execute_result"
    }
   ],
   "source": [
    "pd.unique(df_share_race_city[\"share_white\"].str.extractall(r\"([\\D])\").values.ravel())"
   ]
  },
  {
   "cell_type": "markdown",
   "id": "82959cec",
   "metadata": {},
   "source": [
    "**Seems we have the same problem with (X)'s and we can suppose it's the same for the others columns**"
   ]
  },
  {
   "cell_type": "markdown",
   "id": "5d8487c7",
   "metadata": {},
   "source": [
    "### Police killings"
   ]
  },
  {
   "cell_type": "code",
   "execution_count": 4,
   "id": "d198e1a9",
   "metadata": {},
   "outputs": [
    {
     "data": {
      "text/plain": [
       "(2535, 14)"
      ]
     },
     "execution_count": 4,
     "metadata": {},
     "output_type": "execute_result"
    }
   ],
   "source": [
    "df_fatalities.shape"
   ]
  },
  {
   "cell_type": "code",
   "execution_count": 5,
   "id": "06dcf550",
   "metadata": {},
   "outputs": [
    {
     "data": {
      "text/html": [
       "<div>\n",
       "<style scoped>\n",
       "    .dataframe tbody tr th:only-of-type {\n",
       "        vertical-align: middle;\n",
       "    }\n",
       "\n",
       "    .dataframe tbody tr th {\n",
       "        vertical-align: top;\n",
       "    }\n",
       "\n",
       "    .dataframe thead th {\n",
       "        text-align: right;\n",
       "    }\n",
       "</style>\n",
       "<table border=\"1\" class=\"dataframe\">\n",
       "  <thead>\n",
       "    <tr style=\"text-align: right;\">\n",
       "      <th></th>\n",
       "      <th>id</th>\n",
       "      <th>name</th>\n",
       "      <th>date</th>\n",
       "      <th>manner_of_death</th>\n",
       "      <th>armed</th>\n",
       "      <th>age</th>\n",
       "      <th>gender</th>\n",
       "      <th>race</th>\n",
       "      <th>city</th>\n",
       "      <th>state</th>\n",
       "      <th>signs_of_mental_illness</th>\n",
       "      <th>threat_level</th>\n",
       "      <th>flee</th>\n",
       "      <th>body_camera</th>\n",
       "    </tr>\n",
       "  </thead>\n",
       "  <tbody>\n",
       "    <tr>\n",
       "      <th>0</th>\n",
       "      <td>3</td>\n",
       "      <td>Tim Elliot</td>\n",
       "      <td>02/01/15</td>\n",
       "      <td>shot</td>\n",
       "      <td>gun</td>\n",
       "      <td>53.0</td>\n",
       "      <td>M</td>\n",
       "      <td>A</td>\n",
       "      <td>Shelton</td>\n",
       "      <td>WA</td>\n",
       "      <td>True</td>\n",
       "      <td>attack</td>\n",
       "      <td>Not fleeing</td>\n",
       "      <td>False</td>\n",
       "    </tr>\n",
       "    <tr>\n",
       "      <th>1</th>\n",
       "      <td>4</td>\n",
       "      <td>Lewis Lee Lembke</td>\n",
       "      <td>02/01/15</td>\n",
       "      <td>shot</td>\n",
       "      <td>gun</td>\n",
       "      <td>47.0</td>\n",
       "      <td>M</td>\n",
       "      <td>W</td>\n",
       "      <td>Aloha</td>\n",
       "      <td>OR</td>\n",
       "      <td>False</td>\n",
       "      <td>attack</td>\n",
       "      <td>Not fleeing</td>\n",
       "      <td>False</td>\n",
       "    </tr>\n",
       "    <tr>\n",
       "      <th>2</th>\n",
       "      <td>5</td>\n",
       "      <td>John Paul Quintero</td>\n",
       "      <td>03/01/15</td>\n",
       "      <td>shot and Tasered</td>\n",
       "      <td>unarmed</td>\n",
       "      <td>23.0</td>\n",
       "      <td>M</td>\n",
       "      <td>H</td>\n",
       "      <td>Wichita</td>\n",
       "      <td>KS</td>\n",
       "      <td>False</td>\n",
       "      <td>other</td>\n",
       "      <td>Not fleeing</td>\n",
       "      <td>False</td>\n",
       "    </tr>\n",
       "    <tr>\n",
       "      <th>3</th>\n",
       "      <td>8</td>\n",
       "      <td>Matthew Hoffman</td>\n",
       "      <td>04/01/15</td>\n",
       "      <td>shot</td>\n",
       "      <td>toy weapon</td>\n",
       "      <td>32.0</td>\n",
       "      <td>M</td>\n",
       "      <td>W</td>\n",
       "      <td>San Francisco</td>\n",
       "      <td>CA</td>\n",
       "      <td>True</td>\n",
       "      <td>attack</td>\n",
       "      <td>Not fleeing</td>\n",
       "      <td>False</td>\n",
       "    </tr>\n",
       "    <tr>\n",
       "      <th>4</th>\n",
       "      <td>9</td>\n",
       "      <td>Michael Rodriguez</td>\n",
       "      <td>04/01/15</td>\n",
       "      <td>shot</td>\n",
       "      <td>nail gun</td>\n",
       "      <td>39.0</td>\n",
       "      <td>M</td>\n",
       "      <td>H</td>\n",
       "      <td>Evans</td>\n",
       "      <td>CO</td>\n",
       "      <td>False</td>\n",
       "      <td>attack</td>\n",
       "      <td>Not fleeing</td>\n",
       "      <td>False</td>\n",
       "    </tr>\n",
       "  </tbody>\n",
       "</table>\n",
       "</div>"
      ],
      "text/plain": [
       "   id                name      date   manner_of_death       armed   age  \\\n",
       "0   3          Tim Elliot  02/01/15              shot         gun  53.0   \n",
       "1   4    Lewis Lee Lembke  02/01/15              shot         gun  47.0   \n",
       "2   5  John Paul Quintero  03/01/15  shot and Tasered     unarmed  23.0   \n",
       "3   8     Matthew Hoffman  04/01/15              shot  toy weapon  32.0   \n",
       "4   9   Michael Rodriguez  04/01/15              shot    nail gun  39.0   \n",
       "\n",
       "  gender race           city state  signs_of_mental_illness threat_level  \\\n",
       "0      M    A        Shelton    WA                     True       attack   \n",
       "1      M    W          Aloha    OR                    False       attack   \n",
       "2      M    H        Wichita    KS                    False        other   \n",
       "3      M    W  San Francisco    CA                     True       attack   \n",
       "4      M    H          Evans    CO                    False       attack   \n",
       "\n",
       "          flee  body_camera  \n",
       "0  Not fleeing        False  \n",
       "1  Not fleeing        False  \n",
       "2  Not fleeing        False  \n",
       "3  Not fleeing        False  \n",
       "4  Not fleeing        False  "
      ]
     },
     "execution_count": 5,
     "metadata": {},
     "output_type": "execute_result"
    }
   ],
   "source": [
    "df_fatalities.head()"
   ]
  },
  {
   "cell_type": "markdown",
   "id": "696215b3",
   "metadata": {},
   "source": [
    "Taking a look at [the shooting of Matthew Hoffman report](https://sfdistrictattorney.org/wp-content/uploads/2020/10/Hoffman-final-02142018_0.pdf), we can see that all the informations are related to the person shot, except the manner of death and the body camera who are from the Police officers \"features\""
   ]
  },
  {
   "cell_type": "code",
   "execution_count": 6,
   "id": "2fa06797",
   "metadata": {},
   "outputs": [
    {
     "data": {
      "text/plain": [
       "id                           0\n",
       "name                         0\n",
       "date                         0\n",
       "manner_of_death              0\n",
       "armed                        9\n",
       "age                         77\n",
       "gender                       0\n",
       "race                       195\n",
       "city                         0\n",
       "state                        0\n",
       "signs_of_mental_illness      0\n",
       "threat_level                 0\n",
       "flee                        65\n",
       "body_camera                  0\n",
       "dtype: int64"
      ]
     },
     "execution_count": 6,
     "metadata": {},
     "output_type": "execute_result"
    }
   ],
   "source": [
    "df_fatalities.isnull().sum()"
   ]
  },
  {
   "cell_type": "markdown",
   "id": "cb3e3dcb",
   "metadata": {},
   "source": [
    "**We have a bunch of null values to handle**"
   ]
  },
  {
   "cell_type": "code",
   "execution_count": 56,
   "id": "565050bc",
   "metadata": {},
   "outputs": [
    {
     "name": "stdout",
     "output_type": "stream",
     "text": [
      "<class 'pandas.core.frame.DataFrame'>\n",
      "RangeIndex: 2535 entries, 0 to 2534\n",
      "Data columns (total 14 columns):\n",
      " #   Column                   Non-Null Count  Dtype  \n",
      "---  ------                   --------------  -----  \n",
      " 0   id                       2535 non-null   int64  \n",
      " 1   name                     2535 non-null   object \n",
      " 2   date                     2535 non-null   object \n",
      " 3   manner_of_death          2535 non-null   object \n",
      " 4   armed                    2526 non-null   object \n",
      " 5   age                      2458 non-null   float64\n",
      " 6   gender                   2535 non-null   object \n",
      " 7   race                     2340 non-null   object \n",
      " 8   city                     2535 non-null   object \n",
      " 9   state                    2535 non-null   object \n",
      " 10  signs_of_mental_illness  2535 non-null   bool   \n",
      " 11  threat_level             2535 non-null   object \n",
      " 12  flee                     2470 non-null   object \n",
      " 13  body_camera              2535 non-null   bool   \n",
      "dtypes: bool(2), float64(1), int64(1), object(10)\n",
      "memory usage: 242.7+ KB\n"
     ]
    }
   ],
   "source": [
    "df_fatalities.info()"
   ]
  },
  {
   "cell_type": "code",
   "execution_count": 80,
   "id": "10bf5096",
   "metadata": {},
   "outputs": [],
   "source": [
    "# Checking if all the values are valid"
   ]
  },
  {
   "cell_type": "code",
   "execution_count": 73,
   "id": "86321748",
   "metadata": {
    "scrolled": true
   },
   "outputs": [
    {
     "data": {
      "text/plain": [
       "array(['shot', 'shot and Tasered'], dtype=object)"
      ]
     },
     "execution_count": 73,
     "metadata": {},
     "output_type": "execute_result"
    }
   ],
   "source": [
    "pd.unique(df_fatalities.manner_of_death.values.ravel())"
   ]
  },
  {
   "cell_type": "code",
   "execution_count": 74,
   "id": "e1dab2d9",
   "metadata": {},
   "outputs": [
    {
     "data": {
      "text/plain": [
       "array(['gun', 'unarmed', 'toy weapon', 'nail gun', 'knife', 'vehicle',\n",
       "       'shovel', 'hammer', 'hatchet', 'undetermined', 'sword', 'machete',\n",
       "       'box cutter', 'metal object', 'screwdriver', 'lawn mower blade',\n",
       "       'flagpole', 'guns and explosives', 'cordless drill', 'crossbow',\n",
       "       'metal pole', 'Taser', 'metal pipe', 'metal hand tool',\n",
       "       'blunt object', 'metal stick', 'sharp object', 'meat cleaver', nan,\n",
       "       'carjack', 'chain', \"contractor's level\", 'unknown weapon',\n",
       "       'stapler', 'beer bottle', 'bean-bag gun',\n",
       "       'baseball bat and fireplace poker', 'straight edge razor',\n",
       "       'gun and knife', 'ax', 'brick', 'baseball bat', 'hand torch',\n",
       "       'chain saw', 'garden tool', 'scissors', 'pole', 'pick-axe',\n",
       "       'flashlight', 'baton', 'spear', 'pitchfork', 'hatchet and gun',\n",
       "       'rock', 'piece of wood', 'bayonet', 'pipe', 'glass shard',\n",
       "       'motorcycle', 'metal rake', 'crowbar', 'oar', 'machete and gun',\n",
       "       'tire iron', 'air conditioner', 'pole and knife',\n",
       "       'baseball bat and bottle', 'fireworks', 'pen'], dtype=object)"
      ]
     },
     "execution_count": 74,
     "metadata": {},
     "output_type": "execute_result"
    }
   ],
   "source": [
    "pd.unique(df_fatalities.armed.values.ravel())"
   ]
  },
  {
   "cell_type": "markdown",
   "id": "7d12227a",
   "metadata": {},
   "source": [
    "**We have to combine undetermined, nan, unknown weapon into a single category : Unknown**"
   ]
  },
  {
   "cell_type": "code",
   "execution_count": 79,
   "id": "1f61c4fc",
   "metadata": {},
   "outputs": [
    {
     "data": {
      "text/plain": [
       "array(['M', 'F'], dtype=object)"
      ]
     },
     "execution_count": 79,
     "metadata": {},
     "output_type": "execute_result"
    }
   ],
   "source": [
    "pd.unique(df_fatalities.gender.values.ravel())"
   ]
  },
  {
   "cell_type": "code",
   "execution_count": 81,
   "id": "86abb3f8",
   "metadata": {},
   "outputs": [
    {
     "data": {
      "text/plain": [
       "array(['attack', 'other', 'undetermined'], dtype=object)"
      ]
     },
     "execution_count": 81,
     "metadata": {},
     "output_type": "execute_result"
    }
   ],
   "source": [
    "pd.unique(df_fatalities.threat_level.values.ravel())"
   ]
  },
  {
   "cell_type": "code",
   "execution_count": 82,
   "id": "214f96d3",
   "metadata": {},
   "outputs": [
    {
     "data": {
      "text/plain": [
       "array(['Not fleeing', 'Car', 'Foot', 'Other', nan], dtype=object)"
      ]
     },
     "execution_count": 82,
     "metadata": {},
     "output_type": "execute_result"
    }
   ],
   "source": [
    "pd.unique(df_fatalities.flee.values.ravel())"
   ]
  },
  {
   "cell_type": "markdown",
   "id": "51ff50a9",
   "metadata": {},
   "source": [
    "## Data cleaning"
   ]
  },
  {
   "cell_type": "markdown",
   "id": "8b31b384",
   "metadata": {},
   "source": [
    "### Median income"
   ]
  },
  {
   "cell_type": "code",
   "execution_count": 3,
   "id": "83238072",
   "metadata": {},
   "outputs": [],
   "source": [
    "# Turn fake nan's into real ones\n",
    "df_hh_income[\"Median Income\"].replace([\"(X)\",\"-\"], np.NaN, inplace=True)"
   ]
  },
  {
   "cell_type": "code",
   "execution_count": 4,
   "id": "6955721a",
   "metadata": {},
   "outputs": [
    {
     "data": {
      "text/plain": [
       "Geographic Area       0\n",
       "City                  0\n",
       "Median Income      1904\n",
       "dtype: int64"
      ]
     },
     "execution_count": 4,
     "metadata": {},
     "output_type": "execute_result"
    }
   ],
   "source": [
    "df_hh_income.isna().sum()"
   ]
  },
  {
   "cell_type": "code",
   "execution_count": 5,
   "id": "6685471d",
   "metadata": {},
   "outputs": [],
   "source": [
    "#Turn boundaries into constant values\n",
    "df_hh_income[\"Median Income\"].replace(regex=\"([,]*\\d[+])\", value=250000, inplace=True)"
   ]
  },
  {
   "cell_type": "code",
   "execution_count": 6,
   "id": "3f09437a",
   "metadata": {},
   "outputs": [],
   "source": [
    "df_hh_income[\"Median Income\"].replace(regex=\"([,]*\\d[-])\", value=2500, inplace=True)"
   ]
  },
  {
   "cell_type": "code",
   "execution_count": 7,
   "id": "a11a5527",
   "metadata": {},
   "outputs": [
    {
     "data": {
      "text/plain": [
       "array([], dtype=object)"
      ]
     },
     "execution_count": 7,
     "metadata": {},
     "output_type": "execute_result"
    }
   ],
   "source": [
    "pd.unique(df_hh_income[\"Median Income\"].str.extractall(r\"([\\D])\").values.ravel())"
   ]
  },
  {
   "cell_type": "code",
   "execution_count": 8,
   "id": "fdfb2600",
   "metadata": {},
   "outputs": [],
   "source": [
    "df_hh_income[\"Median Income\"] = pd.to_numeric(df_hh_income[\"Median Income\"])"
   ]
  },
  {
   "cell_type": "code",
   "execution_count": 9,
   "id": "15459d90",
   "metadata": {},
   "outputs": [],
   "source": [
    "# Fill nan's with median\n",
    "df_hh_income[\"Median Income\"].fillna(df_hh_income[\"Median Income\"].median(), inplace=True)"
   ]
  },
  {
   "cell_type": "code",
   "execution_count": 10,
   "id": "df70d517",
   "metadata": {},
   "outputs": [
    {
     "data": {
      "text/plain": [
       "Geographic Area    0\n",
       "City               0\n",
       "Median Income      0\n",
       "dtype: int64"
      ]
     },
     "execution_count": 10,
     "metadata": {},
     "output_type": "execute_result"
    }
   ],
   "source": [
    "df_hh_income.isna().sum()"
   ]
  },
  {
   "cell_type": "code",
   "execution_count": 11,
   "id": "85b86d15",
   "metadata": {},
   "outputs": [],
   "source": [
    "df_hh_income.to_csv(\"MedianHouseholdIncome2015_cleaned.csv\", index=False)"
   ]
  },
  {
   "cell_type": "markdown",
   "id": "6b57ff09",
   "metadata": {},
   "source": [
    "### Percentage People Below Poverty Level"
   ]
  },
  {
   "cell_type": "code",
   "execution_count": 12,
   "id": "36023d01",
   "metadata": {},
   "outputs": [],
   "source": [
    "df_pct_poverty[\"poverty_rate\"].replace(\"-\",np.NaN,inplace=True)\n",
    "df_pct_poverty[\"poverty_rate\"] = pd.to_numeric(df_pct_poverty[\"poverty_rate\"])\n",
    "df_pct_poverty[\"poverty_rate\"].fillna(df_pct_poverty[\"poverty_rate\"].mean(),inplace=True)"
   ]
  },
  {
   "cell_type": "code",
   "execution_count": 13,
   "id": "d0a864ea",
   "metadata": {},
   "outputs": [
    {
     "data": {
      "text/plain": [
       "Geographic Area    0\n",
       "City               0\n",
       "poverty_rate       0\n",
       "dtype: int64"
      ]
     },
     "execution_count": 13,
     "metadata": {},
     "output_type": "execute_result"
    }
   ],
   "source": [
    "df_pct_poverty.isnull().sum()"
   ]
  },
  {
   "cell_type": "code",
   "execution_count": 14,
   "id": "0dbbf3b6",
   "metadata": {},
   "outputs": [],
   "source": [
    "df_pct_poverty.to_csv(\"PercentagePeopleBelowPovertyLevel_cleaned.csv\", index=False)"
   ]
  },
  {
   "cell_type": "markdown",
   "id": "2b718a5a",
   "metadata": {},
   "source": [
    "## Completed highschool"
   ]
  },
  {
   "cell_type": "code",
   "execution_count": 15,
   "id": "302541c1",
   "metadata": {},
   "outputs": [],
   "source": [
    "df_pct_completed_hs.percent_completed_hs = df_pct_completed_hs.percent_completed_hs.replace(\"-\", np.NaN)\n",
    "df_pct_completed_hs.percent_completed_hs = pd.to_numeric(df_pct_completed_hs.percent_completed_hs)\n",
    "df_pct_completed_hs.fillna(df_pct_completed_hs.percent_completed_hs.mean(), inplace= True)\n",
    "df_pct_completed_hs.to_csv(\"PercentOver25CompletedHighSchool_cleaned.csv\", index=False)"
   ]
  },
  {
   "cell_type": "markdown",
   "id": "351d9aaf",
   "metadata": {},
   "source": [
    "### Share Race By City"
   ]
  },
  {
   "cell_type": "code",
   "execution_count": 16,
   "id": "84ed9d5b",
   "metadata": {},
   "outputs": [],
   "source": [
    "# Dans chaque share_ , replace avec lambda\n",
    "df_share_race_city[[\"share_white\",\"share_black\",\"share_native_american\",\"share_asian\",\"share_hispanic\"]] = df_share_race_city[[\"share_white\",\"share_black\",\"share_native_american\",\"share_asian\",\"share_hispanic\"]].replace(\"(X)\",np.NaN)\n",
    "df_share_race_city[[\"share_white\",\"share_black\",\"share_native_american\",\"share_asian\",\"share_hispanic\"]] = df_share_race_city[[\"share_white\",\"share_black\",\"share_native_american\",\"share_asian\",\"share_hispanic\"]].apply(pd.to_numeric)\n",
    "df_share_race_city[\"share_white\"].fillna(df_share_race_city[\"share_white\"].mean(), inplace=True)\n",
    "df_share_race_city[\"share_black\"].fillna(df_share_race_city[\"share_black\"].mean(), inplace=True)\n",
    "df_share_race_city[\"share_native_american\"].fillna(df_share_race_city[\"share_native_american\"].mean(), inplace=True)\n",
    "df_share_race_city[\"share_asian\"].fillna(df_share_race_city[\"share_asian\"].mean(), inplace=True)\n",
    "df_share_race_city[\"share_hispanic\"].fillna(df_share_race_city[\"share_hispanic\"].mean(), inplace=True)"
   ]
  },
  {
   "cell_type": "code",
   "execution_count": 17,
   "id": "cfa8d379",
   "metadata": {},
   "outputs": [],
   "source": [
    "df_share_race_city.to_csv(\"ShareRaceByCity_cleaned.csv\", index=False)"
   ]
  },
  {
   "cell_type": "markdown",
   "id": "3a8c350e",
   "metadata": {},
   "source": [
    "## Police killings"
   ]
  },
  {
   "cell_type": "code",
   "execution_count": 18,
   "id": "56b65272",
   "metadata": {},
   "outputs": [],
   "source": [
    "df_fatalities.armed = df_fatalities.armed.replace([\"undetermined\",\"unknown weapon\",\"unknown\"], np.NaN)\n",
    "df_fatalities.armed.fillna(\"Unknown\", inplace=True)"
   ]
  },
  {
   "cell_type": "code",
   "execution_count": 19,
   "id": "1b48d0b3",
   "metadata": {},
   "outputs": [],
   "source": [
    "df_fatalities.race.replace(\"O\",np.NaN, inplace=True)\n",
    "df_fatalities.race.fillna(\"U\", inplace=True) #Unknown"
   ]
  },
  {
   "cell_type": "code",
   "execution_count": 20,
   "id": "35278e91",
   "metadata": {},
   "outputs": [],
   "source": [
    "df_fatalities.flee.fillna(\"Other\",inplace=True)"
   ]
  },
  {
   "cell_type": "code",
   "execution_count": 21,
   "id": "93bcd9ad",
   "metadata": {},
   "outputs": [],
   "source": [
    "df_fatalities.age.fillna(df_fatalities.age.mean, inplace=True)"
   ]
  },
  {
   "cell_type": "code",
   "execution_count": 22,
   "id": "0fd7d188",
   "metadata": {},
   "outputs": [],
   "source": [
    "df_fatalities.date = pd.to_datetime(df_fatalities.date)"
   ]
  },
  {
   "cell_type": "code",
   "execution_count": 25,
   "id": "ced8476b",
   "metadata": {},
   "outputs": [
    {
     "name": "stdout",
     "output_type": "stream",
     "text": [
      "<class 'pandas.core.frame.DataFrame'>\n",
      "RangeIndex: 2535 entries, 0 to 2534\n",
      "Data columns (total 14 columns):\n",
      " #   Column                   Non-Null Count  Dtype         \n",
      "---  ------                   --------------  -----         \n",
      " 0   id                       2535 non-null   int64         \n",
      " 1   name                     2535 non-null   object        \n",
      " 2   date                     2535 non-null   datetime64[ns]\n",
      " 3   manner_of_death          2535 non-null   object        \n",
      " 4   armed                    2535 non-null   object        \n",
      " 5   age                      2535 non-null   object        \n",
      " 6   gender                   2535 non-null   object        \n",
      " 7   race                     2535 non-null   object        \n",
      " 8   city                     2535 non-null   object        \n",
      " 9   state                    2535 non-null   object        \n",
      " 10  signs_of_mental_illness  2535 non-null   bool          \n",
      " 11  threat_level             2535 non-null   object        \n",
      " 12  flee                     2535 non-null   object        \n",
      " 13  body_camera              2535 non-null   bool          \n",
      "dtypes: bool(2), datetime64[ns](1), int64(1), object(10)\n",
      "memory usage: 242.7+ KB\n"
     ]
    }
   ],
   "source": [
    "df_fatalities.info()"
   ]
  },
  {
   "cell_type": "code",
   "execution_count": 23,
   "id": "b669a54a",
   "metadata": {},
   "outputs": [
    {
     "ename": "RecursionError",
     "evalue": "maximum recursion depth exceeded while calling a Python object",
     "output_type": "error",
     "traceback": [
      "\u001b[0;31m---------------------------------------------------------------------------\u001b[0m",
      "\u001b[0;31mRecursionError\u001b[0m                            Traceback (most recent call last)",
      "\u001b[1;32m/mnt/c/Users/kiki3/Documents/Projets/police-fatalities/data_cleaning.ipynb Cell 90'\u001b[0m in \u001b[0;36m<module>\u001b[0;34m\u001b[0m\n\u001b[0;32m----> <a href='vscode-notebook-cell://wsl%2Bubuntu/mnt/c/Users/kiki3/Documents/Projets/police-fatalities/data_cleaning.ipynb#ch0000119vscode-remote?line=0'>1</a>\u001b[0m df_fatalities\u001b[39m.\u001b[39;49mto_csv(\u001b[39m\"\u001b[39;49m\u001b[39mPoliceKillingsUS_cleaned.csv\u001b[39;49m\u001b[39m\"\u001b[39;49m, index\u001b[39m=\u001b[39;49m\u001b[39mFalse\u001b[39;49;00m)\n",
      "File \u001b[0;32m~/anaconda3/envs/police/lib/python3.9/site-packages/pandas/core/generic.py:3563\u001b[0m, in \u001b[0;36mNDFrame.to_csv\u001b[0;34m(self, path_or_buf, sep, na_rep, float_format, columns, header, index, index_label, mode, encoding, compression, quoting, quotechar, line_terminator, chunksize, date_format, doublequote, escapechar, decimal, errors, storage_options)\u001b[0m\n\u001b[1;32m   <a href='file:///~/anaconda3/envs/police/lib/python3.9/site-packages/pandas/core/generic.py?line=3551'>3552</a>\u001b[0m df \u001b[39m=\u001b[39m \u001b[39mself\u001b[39m \u001b[39mif\u001b[39;00m \u001b[39misinstance\u001b[39m(\u001b[39mself\u001b[39m, ABCDataFrame) \u001b[39melse\u001b[39;00m \u001b[39mself\u001b[39m\u001b[39m.\u001b[39mto_frame()\n\u001b[1;32m   <a href='file:///~/anaconda3/envs/police/lib/python3.9/site-packages/pandas/core/generic.py?line=3553'>3554</a>\u001b[0m formatter \u001b[39m=\u001b[39m DataFrameFormatter(\n\u001b[1;32m   <a href='file:///~/anaconda3/envs/police/lib/python3.9/site-packages/pandas/core/generic.py?line=3554'>3555</a>\u001b[0m     frame\u001b[39m=\u001b[39mdf,\n\u001b[1;32m   <a href='file:///~/anaconda3/envs/police/lib/python3.9/site-packages/pandas/core/generic.py?line=3555'>3556</a>\u001b[0m     header\u001b[39m=\u001b[39mheader,\n\u001b[0;32m   (...)\u001b[0m\n\u001b[1;32m   <a href='file:///~/anaconda3/envs/police/lib/python3.9/site-packages/pandas/core/generic.py?line=3559'>3560</a>\u001b[0m     decimal\u001b[39m=\u001b[39mdecimal,\n\u001b[1;32m   <a href='file:///~/anaconda3/envs/police/lib/python3.9/site-packages/pandas/core/generic.py?line=3560'>3561</a>\u001b[0m )\n\u001b[0;32m-> <a href='file:///~/anaconda3/envs/police/lib/python3.9/site-packages/pandas/core/generic.py?line=3562'>3563</a>\u001b[0m \u001b[39mreturn\u001b[39;00m DataFrameRenderer(formatter)\u001b[39m.\u001b[39;49mto_csv(\n\u001b[1;32m   <a href='file:///~/anaconda3/envs/police/lib/python3.9/site-packages/pandas/core/generic.py?line=3563'>3564</a>\u001b[0m     path_or_buf,\n\u001b[1;32m   <a href='file:///~/anaconda3/envs/police/lib/python3.9/site-packages/pandas/core/generic.py?line=3564'>3565</a>\u001b[0m     line_terminator\u001b[39m=\u001b[39;49mline_terminator,\n\u001b[1;32m   <a href='file:///~/anaconda3/envs/police/lib/python3.9/site-packages/pandas/core/generic.py?line=3565'>3566</a>\u001b[0m     sep\u001b[39m=\u001b[39;49msep,\n\u001b[1;32m   <a href='file:///~/anaconda3/envs/police/lib/python3.9/site-packages/pandas/core/generic.py?line=3566'>3567</a>\u001b[0m     encoding\u001b[39m=\u001b[39;49mencoding,\n\u001b[1;32m   <a href='file:///~/anaconda3/envs/police/lib/python3.9/site-packages/pandas/core/generic.py?line=3567'>3568</a>\u001b[0m     errors\u001b[39m=\u001b[39;49merrors,\n\u001b[1;32m   <a href='file:///~/anaconda3/envs/police/lib/python3.9/site-packages/pandas/core/generic.py?line=3568'>3569</a>\u001b[0m     compression\u001b[39m=\u001b[39;49mcompression,\n\u001b[1;32m   <a href='file:///~/anaconda3/envs/police/lib/python3.9/site-packages/pandas/core/generic.py?line=3569'>3570</a>\u001b[0m     quoting\u001b[39m=\u001b[39;49mquoting,\n\u001b[1;32m   <a href='file:///~/anaconda3/envs/police/lib/python3.9/site-packages/pandas/core/generic.py?line=3570'>3571</a>\u001b[0m     columns\u001b[39m=\u001b[39;49mcolumns,\n\u001b[1;32m   <a href='file:///~/anaconda3/envs/police/lib/python3.9/site-packages/pandas/core/generic.py?line=3571'>3572</a>\u001b[0m     index_label\u001b[39m=\u001b[39;49mindex_label,\n\u001b[1;32m   <a href='file:///~/anaconda3/envs/police/lib/python3.9/site-packages/pandas/core/generic.py?line=3572'>3573</a>\u001b[0m     mode\u001b[39m=\u001b[39;49mmode,\n\u001b[1;32m   <a href='file:///~/anaconda3/envs/police/lib/python3.9/site-packages/pandas/core/generic.py?line=3573'>3574</a>\u001b[0m     chunksize\u001b[39m=\u001b[39;49mchunksize,\n\u001b[1;32m   <a href='file:///~/anaconda3/envs/police/lib/python3.9/site-packages/pandas/core/generic.py?line=3574'>3575</a>\u001b[0m     quotechar\u001b[39m=\u001b[39;49mquotechar,\n\u001b[1;32m   <a href='file:///~/anaconda3/envs/police/lib/python3.9/site-packages/pandas/core/generic.py?line=3575'>3576</a>\u001b[0m     date_format\u001b[39m=\u001b[39;49mdate_format,\n\u001b[1;32m   <a href='file:///~/anaconda3/envs/police/lib/python3.9/site-packages/pandas/core/generic.py?line=3576'>3577</a>\u001b[0m     doublequote\u001b[39m=\u001b[39;49mdoublequote,\n\u001b[1;32m   <a href='file:///~/anaconda3/envs/police/lib/python3.9/site-packages/pandas/core/generic.py?line=3577'>3578</a>\u001b[0m     escapechar\u001b[39m=\u001b[39;49mescapechar,\n\u001b[1;32m   <a href='file:///~/anaconda3/envs/police/lib/python3.9/site-packages/pandas/core/generic.py?line=3578'>3579</a>\u001b[0m     storage_options\u001b[39m=\u001b[39;49mstorage_options,\n\u001b[1;32m   <a href='file:///~/anaconda3/envs/police/lib/python3.9/site-packages/pandas/core/generic.py?line=3579'>3580</a>\u001b[0m )\n",
      "File \u001b[0;32m~/anaconda3/envs/police/lib/python3.9/site-packages/pandas/io/formats/format.py:1180\u001b[0m, in \u001b[0;36mDataFrameRenderer.to_csv\u001b[0;34m(self, path_or_buf, encoding, sep, columns, index_label, mode, compression, quoting, quotechar, line_terminator, chunksize, date_format, doublequote, escapechar, errors, storage_options)\u001b[0m\n\u001b[1;32m   <a href='file:///~/anaconda3/envs/police/lib/python3.9/site-packages/pandas/io/formats/format.py?line=1158'>1159</a>\u001b[0m     created_buffer \u001b[39m=\u001b[39m \u001b[39mFalse\u001b[39;00m\n\u001b[1;32m   <a href='file:///~/anaconda3/envs/police/lib/python3.9/site-packages/pandas/io/formats/format.py?line=1160'>1161</a>\u001b[0m csv_formatter \u001b[39m=\u001b[39m CSVFormatter(\n\u001b[1;32m   <a href='file:///~/anaconda3/envs/police/lib/python3.9/site-packages/pandas/io/formats/format.py?line=1161'>1162</a>\u001b[0m     path_or_buf\u001b[39m=\u001b[39mpath_or_buf,\n\u001b[1;32m   <a href='file:///~/anaconda3/envs/police/lib/python3.9/site-packages/pandas/io/formats/format.py?line=1162'>1163</a>\u001b[0m     line_terminator\u001b[39m=\u001b[39mline_terminator,\n\u001b[0;32m   (...)\u001b[0m\n\u001b[1;32m   <a href='file:///~/anaconda3/envs/police/lib/python3.9/site-packages/pandas/io/formats/format.py?line=1177'>1178</a>\u001b[0m     formatter\u001b[39m=\u001b[39m\u001b[39mself\u001b[39m\u001b[39m.\u001b[39mfmt,\n\u001b[1;32m   <a href='file:///~/anaconda3/envs/police/lib/python3.9/site-packages/pandas/io/formats/format.py?line=1178'>1179</a>\u001b[0m )\n\u001b[0;32m-> <a href='file:///~/anaconda3/envs/police/lib/python3.9/site-packages/pandas/io/formats/format.py?line=1179'>1180</a>\u001b[0m csv_formatter\u001b[39m.\u001b[39;49msave()\n\u001b[1;32m   <a href='file:///~/anaconda3/envs/police/lib/python3.9/site-packages/pandas/io/formats/format.py?line=1181'>1182</a>\u001b[0m \u001b[39mif\u001b[39;00m created_buffer:\n\u001b[1;32m   <a href='file:///~/anaconda3/envs/police/lib/python3.9/site-packages/pandas/io/formats/format.py?line=1182'>1183</a>\u001b[0m     \u001b[39massert\u001b[39;00m \u001b[39misinstance\u001b[39m(path_or_buf, StringIO)\n",
      "File \u001b[0;32m~/anaconda3/envs/police/lib/python3.9/site-packages/pandas/io/formats/csvs.py:261\u001b[0m, in \u001b[0;36mCSVFormatter.save\u001b[0;34m(self)\u001b[0m\n\u001b[1;32m    <a href='file:///~/anaconda3/envs/police/lib/python3.9/site-packages/pandas/io/formats/csvs.py?line=240'>241</a>\u001b[0m \u001b[39mwith\u001b[39;00m get_handle(\n\u001b[1;32m    <a href='file:///~/anaconda3/envs/police/lib/python3.9/site-packages/pandas/io/formats/csvs.py?line=241'>242</a>\u001b[0m     \u001b[39mself\u001b[39m\u001b[39m.\u001b[39mfilepath_or_buffer,\n\u001b[1;32m    <a href='file:///~/anaconda3/envs/police/lib/python3.9/site-packages/pandas/io/formats/csvs.py?line=242'>243</a>\u001b[0m     \u001b[39mself\u001b[39m\u001b[39m.\u001b[39mmode,\n\u001b[0;32m   (...)\u001b[0m\n\u001b[1;32m    <a href='file:///~/anaconda3/envs/police/lib/python3.9/site-packages/pandas/io/formats/csvs.py?line=248'>249</a>\u001b[0m \n\u001b[1;32m    <a href='file:///~/anaconda3/envs/police/lib/python3.9/site-packages/pandas/io/formats/csvs.py?line=249'>250</a>\u001b[0m     \u001b[39m# Note: self.encoding is irrelevant here\u001b[39;00m\n\u001b[1;32m    <a href='file:///~/anaconda3/envs/police/lib/python3.9/site-packages/pandas/io/formats/csvs.py?line=250'>251</a>\u001b[0m     \u001b[39mself\u001b[39m\u001b[39m.\u001b[39mwriter \u001b[39m=\u001b[39m csvlib\u001b[39m.\u001b[39mwriter(\n\u001b[1;32m    <a href='file:///~/anaconda3/envs/police/lib/python3.9/site-packages/pandas/io/formats/csvs.py?line=251'>252</a>\u001b[0m         handles\u001b[39m.\u001b[39mhandle,\n\u001b[1;32m    <a href='file:///~/anaconda3/envs/police/lib/python3.9/site-packages/pandas/io/formats/csvs.py?line=252'>253</a>\u001b[0m         lineterminator\u001b[39m=\u001b[39m\u001b[39mself\u001b[39m\u001b[39m.\u001b[39mline_terminator,\n\u001b[0;32m   (...)\u001b[0m\n\u001b[1;32m    <a href='file:///~/anaconda3/envs/police/lib/python3.9/site-packages/pandas/io/formats/csvs.py?line=257'>258</a>\u001b[0m         quotechar\u001b[39m=\u001b[39m\u001b[39mself\u001b[39m\u001b[39m.\u001b[39mquotechar,\n\u001b[1;32m    <a href='file:///~/anaconda3/envs/police/lib/python3.9/site-packages/pandas/io/formats/csvs.py?line=258'>259</a>\u001b[0m     )\n\u001b[0;32m--> <a href='file:///~/anaconda3/envs/police/lib/python3.9/site-packages/pandas/io/formats/csvs.py?line=260'>261</a>\u001b[0m     \u001b[39mself\u001b[39;49m\u001b[39m.\u001b[39;49m_save()\n",
      "File \u001b[0;32m~/anaconda3/envs/police/lib/python3.9/site-packages/pandas/io/formats/csvs.py:266\u001b[0m, in \u001b[0;36mCSVFormatter._save\u001b[0;34m(self)\u001b[0m\n\u001b[1;32m    <a href='file:///~/anaconda3/envs/police/lib/python3.9/site-packages/pandas/io/formats/csvs.py?line=263'>264</a>\u001b[0m \u001b[39mif\u001b[39;00m \u001b[39mself\u001b[39m\u001b[39m.\u001b[39m_need_to_save_header:\n\u001b[1;32m    <a href='file:///~/anaconda3/envs/police/lib/python3.9/site-packages/pandas/io/formats/csvs.py?line=264'>265</a>\u001b[0m     \u001b[39mself\u001b[39m\u001b[39m.\u001b[39m_save_header()\n\u001b[0;32m--> <a href='file:///~/anaconda3/envs/police/lib/python3.9/site-packages/pandas/io/formats/csvs.py?line=265'>266</a>\u001b[0m \u001b[39mself\u001b[39;49m\u001b[39m.\u001b[39;49m_save_body()\n",
      "File \u001b[0;32m~/anaconda3/envs/police/lib/python3.9/site-packages/pandas/io/formats/csvs.py:304\u001b[0m, in \u001b[0;36mCSVFormatter._save_body\u001b[0;34m(self)\u001b[0m\n\u001b[1;32m    <a href='file:///~/anaconda3/envs/police/lib/python3.9/site-packages/pandas/io/formats/csvs.py?line=301'>302</a>\u001b[0m \u001b[39mif\u001b[39;00m start_i \u001b[39m>\u001b[39m\u001b[39m=\u001b[39m end_i:\n\u001b[1;32m    <a href='file:///~/anaconda3/envs/police/lib/python3.9/site-packages/pandas/io/formats/csvs.py?line=302'>303</a>\u001b[0m     \u001b[39mbreak\u001b[39;00m\n\u001b[0;32m--> <a href='file:///~/anaconda3/envs/police/lib/python3.9/site-packages/pandas/io/formats/csvs.py?line=303'>304</a>\u001b[0m \u001b[39mself\u001b[39;49m\u001b[39m.\u001b[39;49m_save_chunk(start_i, end_i)\n",
      "File \u001b[0;32m~/anaconda3/envs/police/lib/python3.9/site-packages/pandas/io/formats/csvs.py:315\u001b[0m, in \u001b[0;36mCSVFormatter._save_chunk\u001b[0;34m(self, start_i, end_i)\u001b[0m\n\u001b[1;32m    <a href='file:///~/anaconda3/envs/police/lib/python3.9/site-packages/pandas/io/formats/csvs.py?line=311'>312</a>\u001b[0m data \u001b[39m=\u001b[39m [res\u001b[39m.\u001b[39miget_values(i) \u001b[39mfor\u001b[39;00m i \u001b[39min\u001b[39;00m \u001b[39mrange\u001b[39m(\u001b[39mlen\u001b[39m(res\u001b[39m.\u001b[39mitems))]\n\u001b[1;32m    <a href='file:///~/anaconda3/envs/police/lib/python3.9/site-packages/pandas/io/formats/csvs.py?line=313'>314</a>\u001b[0m ix \u001b[39m=\u001b[39m \u001b[39mself\u001b[39m\u001b[39m.\u001b[39mdata_index[slicer]\u001b[39m.\u001b[39m_format_native_types(\u001b[39m*\u001b[39m\u001b[39m*\u001b[39m\u001b[39mself\u001b[39m\u001b[39m.\u001b[39m_number_format)\n\u001b[0;32m--> <a href='file:///~/anaconda3/envs/police/lib/python3.9/site-packages/pandas/io/formats/csvs.py?line=314'>315</a>\u001b[0m libwriters\u001b[39m.\u001b[39;49mwrite_csv_rows(\n\u001b[1;32m    <a href='file:///~/anaconda3/envs/police/lib/python3.9/site-packages/pandas/io/formats/csvs.py?line=315'>316</a>\u001b[0m     data,\n\u001b[1;32m    <a href='file:///~/anaconda3/envs/police/lib/python3.9/site-packages/pandas/io/formats/csvs.py?line=316'>317</a>\u001b[0m     ix,\n\u001b[1;32m    <a href='file:///~/anaconda3/envs/police/lib/python3.9/site-packages/pandas/io/formats/csvs.py?line=317'>318</a>\u001b[0m     \u001b[39mself\u001b[39;49m\u001b[39m.\u001b[39;49mnlevels,\n\u001b[1;32m    <a href='file:///~/anaconda3/envs/police/lib/python3.9/site-packages/pandas/io/formats/csvs.py?line=318'>319</a>\u001b[0m     \u001b[39mself\u001b[39;49m\u001b[39m.\u001b[39;49mcols,\n\u001b[1;32m    <a href='file:///~/anaconda3/envs/police/lib/python3.9/site-packages/pandas/io/formats/csvs.py?line=319'>320</a>\u001b[0m     \u001b[39mself\u001b[39;49m\u001b[39m.\u001b[39;49mwriter,\n\u001b[1;32m    <a href='file:///~/anaconda3/envs/police/lib/python3.9/site-packages/pandas/io/formats/csvs.py?line=320'>321</a>\u001b[0m )\n",
      "File \u001b[0;32m~/anaconda3/envs/police/lib/python3.9/site-packages/pandas/_libs/writers.pyx:72\u001b[0m, in \u001b[0;36mpandas._libs.writers.write_csv_rows\u001b[0;34m()\u001b[0m\n",
      "File \u001b[0;32m~/anaconda3/envs/police/lib/python3.9/site-packages/pandas/core/series.py:1504\u001b[0m, in \u001b[0;36mSeries.__repr__\u001b[0;34m(self)\u001b[0m\n\u001b[1;32m   <a href='file:///~/anaconda3/envs/police/lib/python3.9/site-packages/pandas/core/series.py?line=1499'>1500</a>\u001b[0m \u001b[39m\"\"\"\u001b[39;00m\n\u001b[1;32m   <a href='file:///~/anaconda3/envs/police/lib/python3.9/site-packages/pandas/core/series.py?line=1500'>1501</a>\u001b[0m \u001b[39mReturn a string representation for a particular Series.\u001b[39;00m\n\u001b[1;32m   <a href='file:///~/anaconda3/envs/police/lib/python3.9/site-packages/pandas/core/series.py?line=1501'>1502</a>\u001b[0m \u001b[39m\"\"\"\u001b[39;00m\n\u001b[1;32m   <a href='file:///~/anaconda3/envs/police/lib/python3.9/site-packages/pandas/core/series.py?line=1502'>1503</a>\u001b[0m repr_params \u001b[39m=\u001b[39m fmt\u001b[39m.\u001b[39mget_series_repr_params()\n\u001b[0;32m-> <a href='file:///~/anaconda3/envs/police/lib/python3.9/site-packages/pandas/core/series.py?line=1503'>1504</a>\u001b[0m \u001b[39mreturn\u001b[39;00m \u001b[39mself\u001b[39;49m\u001b[39m.\u001b[39;49mto_string(\u001b[39m*\u001b[39;49m\u001b[39m*\u001b[39;49mrepr_params)\n",
      "File \u001b[0;32m~/anaconda3/envs/police/lib/python3.9/site-packages/pandas/core/series.py:1565\u001b[0m, in \u001b[0;36mSeries.to_string\u001b[0;34m(self, buf, na_rep, float_format, header, index, length, dtype, name, max_rows, min_rows)\u001b[0m\n\u001b[1;32m   <a href='file:///~/anaconda3/envs/police/lib/python3.9/site-packages/pandas/core/series.py?line=1518'>1519</a>\u001b[0m \u001b[39m\"\"\"\u001b[39;00m\n\u001b[1;32m   <a href='file:///~/anaconda3/envs/police/lib/python3.9/site-packages/pandas/core/series.py?line=1519'>1520</a>\u001b[0m \u001b[39mRender a string representation of the Series.\u001b[39;00m\n\u001b[1;32m   <a href='file:///~/anaconda3/envs/police/lib/python3.9/site-packages/pandas/core/series.py?line=1520'>1521</a>\u001b[0m \n\u001b[0;32m   (...)\u001b[0m\n\u001b[1;32m   <a href='file:///~/anaconda3/envs/police/lib/python3.9/site-packages/pandas/core/series.py?line=1550'>1551</a>\u001b[0m \u001b[39m    String representation of Series if ``buf=None``, otherwise None.\u001b[39;00m\n\u001b[1;32m   <a href='file:///~/anaconda3/envs/police/lib/python3.9/site-packages/pandas/core/series.py?line=1551'>1552</a>\u001b[0m \u001b[39m\"\"\"\u001b[39;00m\n\u001b[1;32m   <a href='file:///~/anaconda3/envs/police/lib/python3.9/site-packages/pandas/core/series.py?line=1552'>1553</a>\u001b[0m formatter \u001b[39m=\u001b[39m fmt\u001b[39m.\u001b[39mSeriesFormatter(\n\u001b[1;32m   <a href='file:///~/anaconda3/envs/police/lib/python3.9/site-packages/pandas/core/series.py?line=1553'>1554</a>\u001b[0m     \u001b[39mself\u001b[39m,\n\u001b[1;32m   <a href='file:///~/anaconda3/envs/police/lib/python3.9/site-packages/pandas/core/series.py?line=1554'>1555</a>\u001b[0m     name\u001b[39m=\u001b[39mname,\n\u001b[0;32m   (...)\u001b[0m\n\u001b[1;32m   <a href='file:///~/anaconda3/envs/police/lib/python3.9/site-packages/pandas/core/series.py?line=1562'>1563</a>\u001b[0m     max_rows\u001b[39m=\u001b[39mmax_rows,\n\u001b[1;32m   <a href='file:///~/anaconda3/envs/police/lib/python3.9/site-packages/pandas/core/series.py?line=1563'>1564</a>\u001b[0m )\n\u001b[0;32m-> <a href='file:///~/anaconda3/envs/police/lib/python3.9/site-packages/pandas/core/series.py?line=1564'>1565</a>\u001b[0m result \u001b[39m=\u001b[39m formatter\u001b[39m.\u001b[39;49mto_string()\n\u001b[1;32m   <a href='file:///~/anaconda3/envs/police/lib/python3.9/site-packages/pandas/core/series.py?line=1566'>1567</a>\u001b[0m \u001b[39m# catch contract violations\u001b[39;00m\n\u001b[1;32m   <a href='file:///~/anaconda3/envs/police/lib/python3.9/site-packages/pandas/core/series.py?line=1567'>1568</a>\u001b[0m \u001b[39mif\u001b[39;00m \u001b[39mnot\u001b[39;00m \u001b[39misinstance\u001b[39m(result, \u001b[39mstr\u001b[39m):\n",
      "File \u001b[0;32m~/anaconda3/envs/police/lib/python3.9/site-packages/pandas/io/formats/format.py:391\u001b[0m, in \u001b[0;36mSeriesFormatter.to_string\u001b[0;34m(self)\u001b[0m\n\u001b[1;32m    <a href='file:///~/anaconda3/envs/police/lib/python3.9/site-packages/pandas/io/formats/format.py?line=387'>388</a>\u001b[0m     \u001b[39mreturn\u001b[39;00m \u001b[39mf\u001b[39m\u001b[39m\"\u001b[39m\u001b[39m{\u001b[39;00m\u001b[39mtype\u001b[39m(\u001b[39mself\u001b[39m\u001b[39m.\u001b[39mseries)\u001b[39m.\u001b[39m\u001b[39m__name__\u001b[39m\u001b[39m}\u001b[39;00m\u001b[39m([], \u001b[39m\u001b[39m{\u001b[39;00mfooter\u001b[39m}\u001b[39;00m\u001b[39m)\u001b[39m\u001b[39m\"\u001b[39m\n\u001b[1;32m    <a href='file:///~/anaconda3/envs/police/lib/python3.9/site-packages/pandas/io/formats/format.py?line=389'>390</a>\u001b[0m fmt_index, have_header \u001b[39m=\u001b[39m \u001b[39mself\u001b[39m\u001b[39m.\u001b[39m_get_formatted_index()\n\u001b[0;32m--> <a href='file:///~/anaconda3/envs/police/lib/python3.9/site-packages/pandas/io/formats/format.py?line=390'>391</a>\u001b[0m fmt_values \u001b[39m=\u001b[39m \u001b[39mself\u001b[39;49m\u001b[39m.\u001b[39;49m_get_formatted_values()\n\u001b[1;32m    <a href='file:///~/anaconda3/envs/police/lib/python3.9/site-packages/pandas/io/formats/format.py?line=392'>393</a>\u001b[0m \u001b[39mif\u001b[39;00m \u001b[39mself\u001b[39m\u001b[39m.\u001b[39mis_truncated_vertically:\n\u001b[1;32m    <a href='file:///~/anaconda3/envs/police/lib/python3.9/site-packages/pandas/io/formats/format.py?line=393'>394</a>\u001b[0m     n_header_rows \u001b[39m=\u001b[39m \u001b[39m0\u001b[39m\n",
      "File \u001b[0;32m~/anaconda3/envs/police/lib/python3.9/site-packages/pandas/io/formats/format.py:375\u001b[0m, in \u001b[0;36mSeriesFormatter._get_formatted_values\u001b[0;34m(self)\u001b[0m\n\u001b[1;32m    <a href='file:///~/anaconda3/envs/police/lib/python3.9/site-packages/pandas/io/formats/format.py?line=373'>374</a>\u001b[0m \u001b[39mdef\u001b[39;00m \u001b[39m_get_formatted_values\u001b[39m(\u001b[39mself\u001b[39m) \u001b[39m-\u001b[39m\u001b[39m>\u001b[39m \u001b[39mlist\u001b[39m[\u001b[39mstr\u001b[39m]:\n\u001b[0;32m--> <a href='file:///~/anaconda3/envs/police/lib/python3.9/site-packages/pandas/io/formats/format.py?line=374'>375</a>\u001b[0m     \u001b[39mreturn\u001b[39;00m format_array(\n\u001b[1;32m    <a href='file:///~/anaconda3/envs/police/lib/python3.9/site-packages/pandas/io/formats/format.py?line=375'>376</a>\u001b[0m         \u001b[39mself\u001b[39;49m\u001b[39m.\u001b[39;49mtr_series\u001b[39m.\u001b[39;49m_values,\n\u001b[1;32m    <a href='file:///~/anaconda3/envs/police/lib/python3.9/site-packages/pandas/io/formats/format.py?line=376'>377</a>\u001b[0m         \u001b[39mNone\u001b[39;49;00m,\n\u001b[1;32m    <a href='file:///~/anaconda3/envs/police/lib/python3.9/site-packages/pandas/io/formats/format.py?line=377'>378</a>\u001b[0m         float_format\u001b[39m=\u001b[39;49m\u001b[39mself\u001b[39;49m\u001b[39m.\u001b[39;49mfloat_format,\n\u001b[1;32m    <a href='file:///~/anaconda3/envs/police/lib/python3.9/site-packages/pandas/io/formats/format.py?line=378'>379</a>\u001b[0m         na_rep\u001b[39m=\u001b[39;49m\u001b[39mself\u001b[39;49m\u001b[39m.\u001b[39;49mna_rep,\n\u001b[1;32m    <a href='file:///~/anaconda3/envs/police/lib/python3.9/site-packages/pandas/io/formats/format.py?line=379'>380</a>\u001b[0m         leading_space\u001b[39m=\u001b[39;49m\u001b[39mself\u001b[39;49m\u001b[39m.\u001b[39;49mindex,\n\u001b[1;32m    <a href='file:///~/anaconda3/envs/police/lib/python3.9/site-packages/pandas/io/formats/format.py?line=380'>381</a>\u001b[0m     )\n",
      "File \u001b[0;32m~/anaconda3/envs/police/lib/python3.9/site-packages/pandas/io/formats/format.py:1316\u001b[0m, in \u001b[0;36mformat_array\u001b[0;34m(values, formatter, float_format, na_rep, digits, space, justify, decimal, leading_space, quoting)\u001b[0m\n\u001b[1;32m   <a href='file:///~/anaconda3/envs/police/lib/python3.9/site-packages/pandas/io/formats/format.py?line=1300'>1301</a>\u001b[0m     digits \u001b[39m=\u001b[39m get_option(\u001b[39m\"\u001b[39m\u001b[39mdisplay.precision\u001b[39m\u001b[39m\"\u001b[39m)\n\u001b[1;32m   <a href='file:///~/anaconda3/envs/police/lib/python3.9/site-packages/pandas/io/formats/format.py?line=1302'>1303</a>\u001b[0m fmt_obj \u001b[39m=\u001b[39m fmt_klass(\n\u001b[1;32m   <a href='file:///~/anaconda3/envs/police/lib/python3.9/site-packages/pandas/io/formats/format.py?line=1303'>1304</a>\u001b[0m     values,\n\u001b[1;32m   <a href='file:///~/anaconda3/envs/police/lib/python3.9/site-packages/pandas/io/formats/format.py?line=1304'>1305</a>\u001b[0m     digits\u001b[39m=\u001b[39mdigits,\n\u001b[0;32m   (...)\u001b[0m\n\u001b[1;32m   <a href='file:///~/anaconda3/envs/police/lib/python3.9/site-packages/pandas/io/formats/format.py?line=1312'>1313</a>\u001b[0m     quoting\u001b[39m=\u001b[39mquoting,\n\u001b[1;32m   <a href='file:///~/anaconda3/envs/police/lib/python3.9/site-packages/pandas/io/formats/format.py?line=1313'>1314</a>\u001b[0m )\n\u001b[0;32m-> <a href='file:///~/anaconda3/envs/police/lib/python3.9/site-packages/pandas/io/formats/format.py?line=1315'>1316</a>\u001b[0m \u001b[39mreturn\u001b[39;00m fmt_obj\u001b[39m.\u001b[39;49mget_result()\n",
      "File \u001b[0;32m~/anaconda3/envs/police/lib/python3.9/site-packages/pandas/io/formats/format.py:1347\u001b[0m, in \u001b[0;36mGenericArrayFormatter.get_result\u001b[0;34m(self)\u001b[0m\n\u001b[1;32m   <a href='file:///~/anaconda3/envs/police/lib/python3.9/site-packages/pandas/io/formats/format.py?line=1345'>1346</a>\u001b[0m \u001b[39mdef\u001b[39;00m \u001b[39mget_result\u001b[39m(\u001b[39mself\u001b[39m) \u001b[39m-\u001b[39m\u001b[39m>\u001b[39m \u001b[39mlist\u001b[39m[\u001b[39mstr\u001b[39m]:\n\u001b[0;32m-> <a href='file:///~/anaconda3/envs/police/lib/python3.9/site-packages/pandas/io/formats/format.py?line=1346'>1347</a>\u001b[0m     fmt_values \u001b[39m=\u001b[39m \u001b[39mself\u001b[39;49m\u001b[39m.\u001b[39;49m_format_strings()\n\u001b[1;32m   <a href='file:///~/anaconda3/envs/police/lib/python3.9/site-packages/pandas/io/formats/format.py?line=1347'>1348</a>\u001b[0m     \u001b[39mreturn\u001b[39;00m _make_fixed_width(fmt_values, \u001b[39mself\u001b[39m\u001b[39m.\u001b[39mjustify)\n",
      "File \u001b[0;32m~/anaconda3/envs/police/lib/python3.9/site-packages/pandas/io/formats/format.py:1410\u001b[0m, in \u001b[0;36mGenericArrayFormatter._format_strings\u001b[0;34m(self)\u001b[0m\n\u001b[1;32m   <a href='file:///~/anaconda3/envs/police/lib/python3.9/site-packages/pandas/io/formats/format.py?line=1407'>1408</a>\u001b[0m \u001b[39mfor\u001b[39;00m i, v \u001b[39min\u001b[39;00m \u001b[39menumerate\u001b[39m(vals):\n\u001b[1;32m   <a href='file:///~/anaconda3/envs/police/lib/python3.9/site-packages/pandas/io/formats/format.py?line=1408'>1409</a>\u001b[0m     \u001b[39mif\u001b[39;00m \u001b[39mnot\u001b[39;00m is_float_type[i] \u001b[39mand\u001b[39;00m leading_space:\n\u001b[0;32m-> <a href='file:///~/anaconda3/envs/police/lib/python3.9/site-packages/pandas/io/formats/format.py?line=1409'>1410</a>\u001b[0m         fmt_values\u001b[39m.\u001b[39mappend(\u001b[39mf\u001b[39m\u001b[39m\"\u001b[39m\u001b[39m \u001b[39m\u001b[39m{\u001b[39;00m_format(v)\u001b[39m}\u001b[39;00m\u001b[39m\"\u001b[39m)\n\u001b[1;32m   <a href='file:///~/anaconda3/envs/police/lib/python3.9/site-packages/pandas/io/formats/format.py?line=1410'>1411</a>\u001b[0m     \u001b[39melif\u001b[39;00m is_float_type[i]:\n\u001b[1;32m   <a href='file:///~/anaconda3/envs/police/lib/python3.9/site-packages/pandas/io/formats/format.py?line=1411'>1412</a>\u001b[0m         fmt_values\u001b[39m.\u001b[39mappend(float_format(v))\n",
      "File \u001b[0;32m~/anaconda3/envs/police/lib/python3.9/site-packages/pandas/io/formats/format.py:1390\u001b[0m, in \u001b[0;36mGenericArrayFormatter._format_strings.<locals>._format\u001b[0;34m(x)\u001b[0m\n\u001b[1;32m   <a href='file:///~/anaconda3/envs/police/lib/python3.9/site-packages/pandas/io/formats/format.py?line=1386'>1387</a>\u001b[0m     \u001b[39mreturn\u001b[39;00m \u001b[39mstr\u001b[39m(x)\n\u001b[1;32m   <a href='file:///~/anaconda3/envs/police/lib/python3.9/site-packages/pandas/io/formats/format.py?line=1387'>1388</a>\u001b[0m \u001b[39melse\u001b[39;00m:\n\u001b[1;32m   <a href='file:///~/anaconda3/envs/police/lib/python3.9/site-packages/pandas/io/formats/format.py?line=1388'>1389</a>\u001b[0m     \u001b[39m# object dtype\u001b[39;00m\n\u001b[0;32m-> <a href='file:///~/anaconda3/envs/police/lib/python3.9/site-packages/pandas/io/formats/format.py?line=1389'>1390</a>\u001b[0m     \u001b[39mreturn\u001b[39;00m \u001b[39mstr\u001b[39m(formatter(x))\n",
      "File \u001b[0;32m~/anaconda3/envs/police/lib/python3.9/site-packages/pandas/io/formats/printing.py:232\u001b[0m, in \u001b[0;36mpprint_thing\u001b[0;34m(thing, _nest_lvl, escape_chars, default_escapes, quote_strings, max_seq_items)\u001b[0m\n\u001b[1;32m    <a href='file:///~/anaconda3/envs/police/lib/python3.9/site-packages/pandas/io/formats/printing.py?line=229'>230</a>\u001b[0m     result \u001b[39m=\u001b[39m \u001b[39mf\u001b[39m\u001b[39m\"\u001b[39m\u001b[39m'\u001b[39m\u001b[39m{\u001b[39;00mas_escaped_string(thing)\u001b[39m}\u001b[39;00m\u001b[39m'\u001b[39m\u001b[39m\"\u001b[39m\n\u001b[1;32m    <a href='file:///~/anaconda3/envs/police/lib/python3.9/site-packages/pandas/io/formats/printing.py?line=230'>231</a>\u001b[0m \u001b[39melse\u001b[39;00m:\n\u001b[0;32m--> <a href='file:///~/anaconda3/envs/police/lib/python3.9/site-packages/pandas/io/formats/printing.py?line=231'>232</a>\u001b[0m     result \u001b[39m=\u001b[39m as_escaped_string(thing)\n\u001b[1;32m    <a href='file:///~/anaconda3/envs/police/lib/python3.9/site-packages/pandas/io/formats/printing.py?line=233'>234</a>\u001b[0m \u001b[39mreturn\u001b[39;00m result\n",
      "File \u001b[0;32m~/anaconda3/envs/police/lib/python3.9/site-packages/pandas/io/formats/printing.py:208\u001b[0m, in \u001b[0;36mpprint_thing.<locals>.as_escaped_string\u001b[0;34m(thing, escape_chars)\u001b[0m\n\u001b[1;32m    <a href='file:///~/anaconda3/envs/police/lib/python3.9/site-packages/pandas/io/formats/printing.py?line=204'>205</a>\u001b[0m \u001b[39melse\u001b[39;00m:\n\u001b[1;32m    <a href='file:///~/anaconda3/envs/police/lib/python3.9/site-packages/pandas/io/formats/printing.py?line=205'>206</a>\u001b[0m     escape_chars \u001b[39m=\u001b[39m escape_chars \u001b[39mor\u001b[39;00m ()\n\u001b[0;32m--> <a href='file:///~/anaconda3/envs/police/lib/python3.9/site-packages/pandas/io/formats/printing.py?line=207'>208</a>\u001b[0m result \u001b[39m=\u001b[39m \u001b[39mstr\u001b[39;49m(thing)\n\u001b[1;32m    <a href='file:///~/anaconda3/envs/police/lib/python3.9/site-packages/pandas/io/formats/printing.py?line=208'>209</a>\u001b[0m \u001b[39mfor\u001b[39;00m c \u001b[39min\u001b[39;00m escape_chars:\n\u001b[1;32m    <a href='file:///~/anaconda3/envs/police/lib/python3.9/site-packages/pandas/io/formats/printing.py?line=209'>210</a>\u001b[0m     result \u001b[39m=\u001b[39m result\u001b[39m.\u001b[39mreplace(c, translate[c])\n",
      "File \u001b[0;32m~/anaconda3/envs/police/lib/python3.9/site-packages/pandas/core/series.py:1504\u001b[0m, in \u001b[0;36mSeries.__repr__\u001b[0;34m(self)\u001b[0m\n\u001b[1;32m   <a href='file:///~/anaconda3/envs/police/lib/python3.9/site-packages/pandas/core/series.py?line=1499'>1500</a>\u001b[0m \u001b[39m\"\"\"\u001b[39;00m\n\u001b[1;32m   <a href='file:///~/anaconda3/envs/police/lib/python3.9/site-packages/pandas/core/series.py?line=1500'>1501</a>\u001b[0m \u001b[39mReturn a string representation for a particular Series.\u001b[39;00m\n\u001b[1;32m   <a href='file:///~/anaconda3/envs/police/lib/python3.9/site-packages/pandas/core/series.py?line=1501'>1502</a>\u001b[0m \u001b[39m\"\"\"\u001b[39;00m\n\u001b[1;32m   <a href='file:///~/anaconda3/envs/police/lib/python3.9/site-packages/pandas/core/series.py?line=1502'>1503</a>\u001b[0m repr_params \u001b[39m=\u001b[39m fmt\u001b[39m.\u001b[39mget_series_repr_params()\n\u001b[0;32m-> <a href='file:///~/anaconda3/envs/police/lib/python3.9/site-packages/pandas/core/series.py?line=1503'>1504</a>\u001b[0m \u001b[39mreturn\u001b[39;00m \u001b[39mself\u001b[39;49m\u001b[39m.\u001b[39;49mto_string(\u001b[39m*\u001b[39;49m\u001b[39m*\u001b[39;49mrepr_params)\n",
      "File \u001b[0;32m~/anaconda3/envs/police/lib/python3.9/site-packages/pandas/core/series.py:1565\u001b[0m, in \u001b[0;36mSeries.to_string\u001b[0;34m(self, buf, na_rep, float_format, header, index, length, dtype, name, max_rows, min_rows)\u001b[0m\n\u001b[1;32m   <a href='file:///~/anaconda3/envs/police/lib/python3.9/site-packages/pandas/core/series.py?line=1518'>1519</a>\u001b[0m \u001b[39m\"\"\"\u001b[39;00m\n\u001b[1;32m   <a href='file:///~/anaconda3/envs/police/lib/python3.9/site-packages/pandas/core/series.py?line=1519'>1520</a>\u001b[0m \u001b[39mRender a string representation of the Series.\u001b[39;00m\n\u001b[1;32m   <a href='file:///~/anaconda3/envs/police/lib/python3.9/site-packages/pandas/core/series.py?line=1520'>1521</a>\u001b[0m \n\u001b[0;32m   (...)\u001b[0m\n\u001b[1;32m   <a href='file:///~/anaconda3/envs/police/lib/python3.9/site-packages/pandas/core/series.py?line=1550'>1551</a>\u001b[0m \u001b[39m    String representation of Series if ``buf=None``, otherwise None.\u001b[39;00m\n\u001b[1;32m   <a href='file:///~/anaconda3/envs/police/lib/python3.9/site-packages/pandas/core/series.py?line=1551'>1552</a>\u001b[0m \u001b[39m\"\"\"\u001b[39;00m\n\u001b[1;32m   <a href='file:///~/anaconda3/envs/police/lib/python3.9/site-packages/pandas/core/series.py?line=1552'>1553</a>\u001b[0m formatter \u001b[39m=\u001b[39m fmt\u001b[39m.\u001b[39mSeriesFormatter(\n\u001b[1;32m   <a href='file:///~/anaconda3/envs/police/lib/python3.9/site-packages/pandas/core/series.py?line=1553'>1554</a>\u001b[0m     \u001b[39mself\u001b[39m,\n\u001b[1;32m   <a href='file:///~/anaconda3/envs/police/lib/python3.9/site-packages/pandas/core/series.py?line=1554'>1555</a>\u001b[0m     name\u001b[39m=\u001b[39mname,\n\u001b[0;32m   (...)\u001b[0m\n\u001b[1;32m   <a href='file:///~/anaconda3/envs/police/lib/python3.9/site-packages/pandas/core/series.py?line=1562'>1563</a>\u001b[0m     max_rows\u001b[39m=\u001b[39mmax_rows,\n\u001b[1;32m   <a href='file:///~/anaconda3/envs/police/lib/python3.9/site-packages/pandas/core/series.py?line=1563'>1564</a>\u001b[0m )\n\u001b[0;32m-> <a href='file:///~/anaconda3/envs/police/lib/python3.9/site-packages/pandas/core/series.py?line=1564'>1565</a>\u001b[0m result \u001b[39m=\u001b[39m formatter\u001b[39m.\u001b[39;49mto_string()\n\u001b[1;32m   <a href='file:///~/anaconda3/envs/police/lib/python3.9/site-packages/pandas/core/series.py?line=1566'>1567</a>\u001b[0m \u001b[39m# catch contract violations\u001b[39;00m\n\u001b[1;32m   <a href='file:///~/anaconda3/envs/police/lib/python3.9/site-packages/pandas/core/series.py?line=1567'>1568</a>\u001b[0m \u001b[39mif\u001b[39;00m \u001b[39mnot\u001b[39;00m \u001b[39misinstance\u001b[39m(result, \u001b[39mstr\u001b[39m):\n",
      "File \u001b[0;32m~/anaconda3/envs/police/lib/python3.9/site-packages/pandas/io/formats/format.py:391\u001b[0m, in \u001b[0;36mSeriesFormatter.to_string\u001b[0;34m(self)\u001b[0m\n\u001b[1;32m    <a href='file:///~/anaconda3/envs/police/lib/python3.9/site-packages/pandas/io/formats/format.py?line=387'>388</a>\u001b[0m     \u001b[39mreturn\u001b[39;00m \u001b[39mf\u001b[39m\u001b[39m\"\u001b[39m\u001b[39m{\u001b[39;00m\u001b[39mtype\u001b[39m(\u001b[39mself\u001b[39m\u001b[39m.\u001b[39mseries)\u001b[39m.\u001b[39m\u001b[39m__name__\u001b[39m\u001b[39m}\u001b[39;00m\u001b[39m([], \u001b[39m\u001b[39m{\u001b[39;00mfooter\u001b[39m}\u001b[39;00m\u001b[39m)\u001b[39m\u001b[39m\"\u001b[39m\n\u001b[1;32m    <a href='file:///~/anaconda3/envs/police/lib/python3.9/site-packages/pandas/io/formats/format.py?line=389'>390</a>\u001b[0m fmt_index, have_header \u001b[39m=\u001b[39m \u001b[39mself\u001b[39m\u001b[39m.\u001b[39m_get_formatted_index()\n\u001b[0;32m--> <a href='file:///~/anaconda3/envs/police/lib/python3.9/site-packages/pandas/io/formats/format.py?line=390'>391</a>\u001b[0m fmt_values \u001b[39m=\u001b[39m \u001b[39mself\u001b[39;49m\u001b[39m.\u001b[39;49m_get_formatted_values()\n\u001b[1;32m    <a href='file:///~/anaconda3/envs/police/lib/python3.9/site-packages/pandas/io/formats/format.py?line=392'>393</a>\u001b[0m \u001b[39mif\u001b[39;00m \u001b[39mself\u001b[39m\u001b[39m.\u001b[39mis_truncated_vertically:\n\u001b[1;32m    <a href='file:///~/anaconda3/envs/police/lib/python3.9/site-packages/pandas/io/formats/format.py?line=393'>394</a>\u001b[0m     n_header_rows \u001b[39m=\u001b[39m \u001b[39m0\u001b[39m\n",
      "File \u001b[0;32m~/anaconda3/envs/police/lib/python3.9/site-packages/pandas/io/formats/format.py:375\u001b[0m, in \u001b[0;36mSeriesFormatter._get_formatted_values\u001b[0;34m(self)\u001b[0m\n\u001b[1;32m    <a href='file:///~/anaconda3/envs/police/lib/python3.9/site-packages/pandas/io/formats/format.py?line=373'>374</a>\u001b[0m \u001b[39mdef\u001b[39;00m \u001b[39m_get_formatted_values\u001b[39m(\u001b[39mself\u001b[39m) \u001b[39m-\u001b[39m\u001b[39m>\u001b[39m \u001b[39mlist\u001b[39m[\u001b[39mstr\u001b[39m]:\n\u001b[0;32m--> <a href='file:///~/anaconda3/envs/police/lib/python3.9/site-packages/pandas/io/formats/format.py?line=374'>375</a>\u001b[0m     \u001b[39mreturn\u001b[39;00m format_array(\n\u001b[1;32m    <a href='file:///~/anaconda3/envs/police/lib/python3.9/site-packages/pandas/io/formats/format.py?line=375'>376</a>\u001b[0m         \u001b[39mself\u001b[39;49m\u001b[39m.\u001b[39;49mtr_series\u001b[39m.\u001b[39;49m_values,\n\u001b[1;32m    <a href='file:///~/anaconda3/envs/police/lib/python3.9/site-packages/pandas/io/formats/format.py?line=376'>377</a>\u001b[0m         \u001b[39mNone\u001b[39;49;00m,\n\u001b[1;32m    <a href='file:///~/anaconda3/envs/police/lib/python3.9/site-packages/pandas/io/formats/format.py?line=377'>378</a>\u001b[0m         float_format\u001b[39m=\u001b[39;49m\u001b[39mself\u001b[39;49m\u001b[39m.\u001b[39;49mfloat_format,\n\u001b[1;32m    <a href='file:///~/anaconda3/envs/police/lib/python3.9/site-packages/pandas/io/formats/format.py?line=378'>379</a>\u001b[0m         na_rep\u001b[39m=\u001b[39;49m\u001b[39mself\u001b[39;49m\u001b[39m.\u001b[39;49mna_rep,\n\u001b[1;32m    <a href='file:///~/anaconda3/envs/police/lib/python3.9/site-packages/pandas/io/formats/format.py?line=379'>380</a>\u001b[0m         leading_space\u001b[39m=\u001b[39;49m\u001b[39mself\u001b[39;49m\u001b[39m.\u001b[39;49mindex,\n\u001b[1;32m    <a href='file:///~/anaconda3/envs/police/lib/python3.9/site-packages/pandas/io/formats/format.py?line=380'>381</a>\u001b[0m     )\n",
      "File \u001b[0;32m~/anaconda3/envs/police/lib/python3.9/site-packages/pandas/io/formats/format.py:1316\u001b[0m, in \u001b[0;36mformat_array\u001b[0;34m(values, formatter, float_format, na_rep, digits, space, justify, decimal, leading_space, quoting)\u001b[0m\n\u001b[1;32m   <a href='file:///~/anaconda3/envs/police/lib/python3.9/site-packages/pandas/io/formats/format.py?line=1300'>1301</a>\u001b[0m     digits \u001b[39m=\u001b[39m get_option(\u001b[39m\"\u001b[39m\u001b[39mdisplay.precision\u001b[39m\u001b[39m\"\u001b[39m)\n\u001b[1;32m   <a href='file:///~/anaconda3/envs/police/lib/python3.9/site-packages/pandas/io/formats/format.py?line=1302'>1303</a>\u001b[0m fmt_obj \u001b[39m=\u001b[39m fmt_klass(\n\u001b[1;32m   <a href='file:///~/anaconda3/envs/police/lib/python3.9/site-packages/pandas/io/formats/format.py?line=1303'>1304</a>\u001b[0m     values,\n\u001b[1;32m   <a href='file:///~/anaconda3/envs/police/lib/python3.9/site-packages/pandas/io/formats/format.py?line=1304'>1305</a>\u001b[0m     digits\u001b[39m=\u001b[39mdigits,\n\u001b[0;32m   (...)\u001b[0m\n\u001b[1;32m   <a href='file:///~/anaconda3/envs/police/lib/python3.9/site-packages/pandas/io/formats/format.py?line=1312'>1313</a>\u001b[0m     quoting\u001b[39m=\u001b[39mquoting,\n\u001b[1;32m   <a href='file:///~/anaconda3/envs/police/lib/python3.9/site-packages/pandas/io/formats/format.py?line=1313'>1314</a>\u001b[0m )\n\u001b[0;32m-> <a href='file:///~/anaconda3/envs/police/lib/python3.9/site-packages/pandas/io/formats/format.py?line=1315'>1316</a>\u001b[0m \u001b[39mreturn\u001b[39;00m fmt_obj\u001b[39m.\u001b[39;49mget_result()\n",
      "File \u001b[0;32m~/anaconda3/envs/police/lib/python3.9/site-packages/pandas/io/formats/format.py:1347\u001b[0m, in \u001b[0;36mGenericArrayFormatter.get_result\u001b[0;34m(self)\u001b[0m\n\u001b[1;32m   <a href='file:///~/anaconda3/envs/police/lib/python3.9/site-packages/pandas/io/formats/format.py?line=1345'>1346</a>\u001b[0m \u001b[39mdef\u001b[39;00m \u001b[39mget_result\u001b[39m(\u001b[39mself\u001b[39m) \u001b[39m-\u001b[39m\u001b[39m>\u001b[39m \u001b[39mlist\u001b[39m[\u001b[39mstr\u001b[39m]:\n\u001b[0;32m-> <a href='file:///~/anaconda3/envs/police/lib/python3.9/site-packages/pandas/io/formats/format.py?line=1346'>1347</a>\u001b[0m     fmt_values \u001b[39m=\u001b[39m \u001b[39mself\u001b[39;49m\u001b[39m.\u001b[39;49m_format_strings()\n\u001b[1;32m   <a href='file:///~/anaconda3/envs/police/lib/python3.9/site-packages/pandas/io/formats/format.py?line=1347'>1348</a>\u001b[0m     \u001b[39mreturn\u001b[39;00m _make_fixed_width(fmt_values, \u001b[39mself\u001b[39m\u001b[39m.\u001b[39mjustify)\n",
      "File \u001b[0;32m~/anaconda3/envs/police/lib/python3.9/site-packages/pandas/io/formats/format.py:1410\u001b[0m, in \u001b[0;36mGenericArrayFormatter._format_strings\u001b[0;34m(self)\u001b[0m\n\u001b[1;32m   <a href='file:///~/anaconda3/envs/police/lib/python3.9/site-packages/pandas/io/formats/format.py?line=1407'>1408</a>\u001b[0m \u001b[39mfor\u001b[39;00m i, v \u001b[39min\u001b[39;00m \u001b[39menumerate\u001b[39m(vals):\n\u001b[1;32m   <a href='file:///~/anaconda3/envs/police/lib/python3.9/site-packages/pandas/io/formats/format.py?line=1408'>1409</a>\u001b[0m     \u001b[39mif\u001b[39;00m \u001b[39mnot\u001b[39;00m is_float_type[i] \u001b[39mand\u001b[39;00m leading_space:\n\u001b[0;32m-> <a href='file:///~/anaconda3/envs/police/lib/python3.9/site-packages/pandas/io/formats/format.py?line=1409'>1410</a>\u001b[0m         fmt_values\u001b[39m.\u001b[39mappend(\u001b[39mf\u001b[39m\u001b[39m\"\u001b[39m\u001b[39m \u001b[39m\u001b[39m{\u001b[39;00m_format(v)\u001b[39m}\u001b[39;00m\u001b[39m\"\u001b[39m)\n\u001b[1;32m   <a href='file:///~/anaconda3/envs/police/lib/python3.9/site-packages/pandas/io/formats/format.py?line=1410'>1411</a>\u001b[0m     \u001b[39melif\u001b[39;00m is_float_type[i]:\n\u001b[1;32m   <a href='file:///~/anaconda3/envs/police/lib/python3.9/site-packages/pandas/io/formats/format.py?line=1411'>1412</a>\u001b[0m         fmt_values\u001b[39m.\u001b[39mappend(float_format(v))\n",
      "File \u001b[0;32m~/anaconda3/envs/police/lib/python3.9/site-packages/pandas/io/formats/format.py:1390\u001b[0m, in \u001b[0;36mGenericArrayFormatter._format_strings.<locals>._format\u001b[0;34m(x)\u001b[0m\n\u001b[1;32m   <a href='file:///~/anaconda3/envs/police/lib/python3.9/site-packages/pandas/io/formats/format.py?line=1386'>1387</a>\u001b[0m     \u001b[39mreturn\u001b[39;00m \u001b[39mstr\u001b[39m(x)\n\u001b[1;32m   <a href='file:///~/anaconda3/envs/police/lib/python3.9/site-packages/pandas/io/formats/format.py?line=1387'>1388</a>\u001b[0m \u001b[39melse\u001b[39;00m:\n\u001b[1;32m   <a href='file:///~/anaconda3/envs/police/lib/python3.9/site-packages/pandas/io/formats/format.py?line=1388'>1389</a>\u001b[0m     \u001b[39m# object dtype\u001b[39;00m\n\u001b[0;32m-> <a href='file:///~/anaconda3/envs/police/lib/python3.9/site-packages/pandas/io/formats/format.py?line=1389'>1390</a>\u001b[0m     \u001b[39mreturn\u001b[39;00m \u001b[39mstr\u001b[39m(formatter(x))\n",
      "File \u001b[0;32m~/anaconda3/envs/police/lib/python3.9/site-packages/pandas/io/formats/printing.py:232\u001b[0m, in \u001b[0;36mpprint_thing\u001b[0;34m(thing, _nest_lvl, escape_chars, default_escapes, quote_strings, max_seq_items)\u001b[0m\n\u001b[1;32m    <a href='file:///~/anaconda3/envs/police/lib/python3.9/site-packages/pandas/io/formats/printing.py?line=229'>230</a>\u001b[0m     result \u001b[39m=\u001b[39m \u001b[39mf\u001b[39m\u001b[39m\"\u001b[39m\u001b[39m'\u001b[39m\u001b[39m{\u001b[39;00mas_escaped_string(thing)\u001b[39m}\u001b[39;00m\u001b[39m'\u001b[39m\u001b[39m\"\u001b[39m\n\u001b[1;32m    <a href='file:///~/anaconda3/envs/police/lib/python3.9/site-packages/pandas/io/formats/printing.py?line=230'>231</a>\u001b[0m \u001b[39melse\u001b[39;00m:\n\u001b[0;32m--> <a href='file:///~/anaconda3/envs/police/lib/python3.9/site-packages/pandas/io/formats/printing.py?line=231'>232</a>\u001b[0m     result \u001b[39m=\u001b[39m as_escaped_string(thing)\n\u001b[1;32m    <a href='file:///~/anaconda3/envs/police/lib/python3.9/site-packages/pandas/io/formats/printing.py?line=233'>234</a>\u001b[0m \u001b[39mreturn\u001b[39;00m result\n",
      "File \u001b[0;32m~/anaconda3/envs/police/lib/python3.9/site-packages/pandas/io/formats/printing.py:208\u001b[0m, in \u001b[0;36mpprint_thing.<locals>.as_escaped_string\u001b[0;34m(thing, escape_chars)\u001b[0m\n\u001b[1;32m    <a href='file:///~/anaconda3/envs/police/lib/python3.9/site-packages/pandas/io/formats/printing.py?line=204'>205</a>\u001b[0m \u001b[39melse\u001b[39;00m:\n\u001b[1;32m    <a href='file:///~/anaconda3/envs/police/lib/python3.9/site-packages/pandas/io/formats/printing.py?line=205'>206</a>\u001b[0m     escape_chars \u001b[39m=\u001b[39m escape_chars \u001b[39mor\u001b[39;00m ()\n\u001b[0;32m--> <a href='file:///~/anaconda3/envs/police/lib/python3.9/site-packages/pandas/io/formats/printing.py?line=207'>208</a>\u001b[0m result \u001b[39m=\u001b[39m \u001b[39mstr\u001b[39;49m(thing)\n\u001b[1;32m    <a href='file:///~/anaconda3/envs/police/lib/python3.9/site-packages/pandas/io/formats/printing.py?line=208'>209</a>\u001b[0m \u001b[39mfor\u001b[39;00m c \u001b[39min\u001b[39;00m escape_chars:\n\u001b[1;32m    <a href='file:///~/anaconda3/envs/police/lib/python3.9/site-packages/pandas/io/formats/printing.py?line=209'>210</a>\u001b[0m     result \u001b[39m=\u001b[39m result\u001b[39m.\u001b[39mreplace(c, translate[c])\n",
      "    \u001b[0;31m[... skipping similar frames: Series.__repr__ at line 1504 (208 times), GenericArrayFormatter._format_strings.<locals>._format at line 1390 (207 times), GenericArrayFormatter._format_strings at line 1410 (207 times), SeriesFormatter._get_formatted_values at line 375 (207 times), pprint_thing.<locals>.as_escaped_string at line 208 (207 times), format_array at line 1316 (207 times), GenericArrayFormatter.get_result at line 1347 (207 times), pprint_thing at line 232 (207 times), Series.to_string at line 1565 (207 times), SeriesFormatter.to_string at line 391 (207 times)]\u001b[0m\n",
      "File \u001b[0;32m~/anaconda3/envs/police/lib/python3.9/site-packages/pandas/core/series.py:1565\u001b[0m, in \u001b[0;36mSeries.to_string\u001b[0;34m(self, buf, na_rep, float_format, header, index, length, dtype, name, max_rows, min_rows)\u001b[0m\n\u001b[1;32m   <a href='file:///~/anaconda3/envs/police/lib/python3.9/site-packages/pandas/core/series.py?line=1518'>1519</a>\u001b[0m \u001b[39m\"\"\"\u001b[39;00m\n\u001b[1;32m   <a href='file:///~/anaconda3/envs/police/lib/python3.9/site-packages/pandas/core/series.py?line=1519'>1520</a>\u001b[0m \u001b[39mRender a string representation of the Series.\u001b[39;00m\n\u001b[1;32m   <a href='file:///~/anaconda3/envs/police/lib/python3.9/site-packages/pandas/core/series.py?line=1520'>1521</a>\u001b[0m \n\u001b[0;32m   (...)\u001b[0m\n\u001b[1;32m   <a href='file:///~/anaconda3/envs/police/lib/python3.9/site-packages/pandas/core/series.py?line=1550'>1551</a>\u001b[0m \u001b[39m    String representation of Series if ``buf=None``, otherwise None.\u001b[39;00m\n\u001b[1;32m   <a href='file:///~/anaconda3/envs/police/lib/python3.9/site-packages/pandas/core/series.py?line=1551'>1552</a>\u001b[0m \u001b[39m\"\"\"\u001b[39;00m\n\u001b[1;32m   <a href='file:///~/anaconda3/envs/police/lib/python3.9/site-packages/pandas/core/series.py?line=1552'>1553</a>\u001b[0m formatter \u001b[39m=\u001b[39m fmt\u001b[39m.\u001b[39mSeriesFormatter(\n\u001b[1;32m   <a href='file:///~/anaconda3/envs/police/lib/python3.9/site-packages/pandas/core/series.py?line=1553'>1554</a>\u001b[0m     \u001b[39mself\u001b[39m,\n\u001b[1;32m   <a href='file:///~/anaconda3/envs/police/lib/python3.9/site-packages/pandas/core/series.py?line=1554'>1555</a>\u001b[0m     name\u001b[39m=\u001b[39mname,\n\u001b[0;32m   (...)\u001b[0m\n\u001b[1;32m   <a href='file:///~/anaconda3/envs/police/lib/python3.9/site-packages/pandas/core/series.py?line=1562'>1563</a>\u001b[0m     max_rows\u001b[39m=\u001b[39mmax_rows,\n\u001b[1;32m   <a href='file:///~/anaconda3/envs/police/lib/python3.9/site-packages/pandas/core/series.py?line=1563'>1564</a>\u001b[0m )\n\u001b[0;32m-> <a href='file:///~/anaconda3/envs/police/lib/python3.9/site-packages/pandas/core/series.py?line=1564'>1565</a>\u001b[0m result \u001b[39m=\u001b[39m formatter\u001b[39m.\u001b[39;49mto_string()\n\u001b[1;32m   <a href='file:///~/anaconda3/envs/police/lib/python3.9/site-packages/pandas/core/series.py?line=1566'>1567</a>\u001b[0m \u001b[39m# catch contract violations\u001b[39;00m\n\u001b[1;32m   <a href='file:///~/anaconda3/envs/police/lib/python3.9/site-packages/pandas/core/series.py?line=1567'>1568</a>\u001b[0m \u001b[39mif\u001b[39;00m \u001b[39mnot\u001b[39;00m \u001b[39misinstance\u001b[39m(result, \u001b[39mstr\u001b[39m):\n",
      "File \u001b[0;32m~/anaconda3/envs/police/lib/python3.9/site-packages/pandas/io/formats/format.py:391\u001b[0m, in \u001b[0;36mSeriesFormatter.to_string\u001b[0;34m(self)\u001b[0m\n\u001b[1;32m    <a href='file:///~/anaconda3/envs/police/lib/python3.9/site-packages/pandas/io/formats/format.py?line=387'>388</a>\u001b[0m     \u001b[39mreturn\u001b[39;00m \u001b[39mf\u001b[39m\u001b[39m\"\u001b[39m\u001b[39m{\u001b[39;00m\u001b[39mtype\u001b[39m(\u001b[39mself\u001b[39m\u001b[39m.\u001b[39mseries)\u001b[39m.\u001b[39m\u001b[39m__name__\u001b[39m\u001b[39m}\u001b[39;00m\u001b[39m([], \u001b[39m\u001b[39m{\u001b[39;00mfooter\u001b[39m}\u001b[39;00m\u001b[39m)\u001b[39m\u001b[39m\"\u001b[39m\n\u001b[1;32m    <a href='file:///~/anaconda3/envs/police/lib/python3.9/site-packages/pandas/io/formats/format.py?line=389'>390</a>\u001b[0m fmt_index, have_header \u001b[39m=\u001b[39m \u001b[39mself\u001b[39m\u001b[39m.\u001b[39m_get_formatted_index()\n\u001b[0;32m--> <a href='file:///~/anaconda3/envs/police/lib/python3.9/site-packages/pandas/io/formats/format.py?line=390'>391</a>\u001b[0m fmt_values \u001b[39m=\u001b[39m \u001b[39mself\u001b[39;49m\u001b[39m.\u001b[39;49m_get_formatted_values()\n\u001b[1;32m    <a href='file:///~/anaconda3/envs/police/lib/python3.9/site-packages/pandas/io/formats/format.py?line=392'>393</a>\u001b[0m \u001b[39mif\u001b[39;00m \u001b[39mself\u001b[39m\u001b[39m.\u001b[39mis_truncated_vertically:\n\u001b[1;32m    <a href='file:///~/anaconda3/envs/police/lib/python3.9/site-packages/pandas/io/formats/format.py?line=393'>394</a>\u001b[0m     n_header_rows \u001b[39m=\u001b[39m \u001b[39m0\u001b[39m\n",
      "File \u001b[0;32m~/anaconda3/envs/police/lib/python3.9/site-packages/pandas/io/formats/format.py:375\u001b[0m, in \u001b[0;36mSeriesFormatter._get_formatted_values\u001b[0;34m(self)\u001b[0m\n\u001b[1;32m    <a href='file:///~/anaconda3/envs/police/lib/python3.9/site-packages/pandas/io/formats/format.py?line=373'>374</a>\u001b[0m \u001b[39mdef\u001b[39;00m \u001b[39m_get_formatted_values\u001b[39m(\u001b[39mself\u001b[39m) \u001b[39m-\u001b[39m\u001b[39m>\u001b[39m \u001b[39mlist\u001b[39m[\u001b[39mstr\u001b[39m]:\n\u001b[0;32m--> <a href='file:///~/anaconda3/envs/police/lib/python3.9/site-packages/pandas/io/formats/format.py?line=374'>375</a>\u001b[0m     \u001b[39mreturn\u001b[39;00m format_array(\n\u001b[1;32m    <a href='file:///~/anaconda3/envs/police/lib/python3.9/site-packages/pandas/io/formats/format.py?line=375'>376</a>\u001b[0m         \u001b[39mself\u001b[39;49m\u001b[39m.\u001b[39;49mtr_series\u001b[39m.\u001b[39;49m_values,\n\u001b[1;32m    <a href='file:///~/anaconda3/envs/police/lib/python3.9/site-packages/pandas/io/formats/format.py?line=376'>377</a>\u001b[0m         \u001b[39mNone\u001b[39;49;00m,\n\u001b[1;32m    <a href='file:///~/anaconda3/envs/police/lib/python3.9/site-packages/pandas/io/formats/format.py?line=377'>378</a>\u001b[0m         float_format\u001b[39m=\u001b[39;49m\u001b[39mself\u001b[39;49m\u001b[39m.\u001b[39;49mfloat_format,\n\u001b[1;32m    <a href='file:///~/anaconda3/envs/police/lib/python3.9/site-packages/pandas/io/formats/format.py?line=378'>379</a>\u001b[0m         na_rep\u001b[39m=\u001b[39;49m\u001b[39mself\u001b[39;49m\u001b[39m.\u001b[39;49mna_rep,\n\u001b[1;32m    <a href='file:///~/anaconda3/envs/police/lib/python3.9/site-packages/pandas/io/formats/format.py?line=379'>380</a>\u001b[0m         leading_space\u001b[39m=\u001b[39;49m\u001b[39mself\u001b[39;49m\u001b[39m.\u001b[39;49mindex,\n\u001b[1;32m    <a href='file:///~/anaconda3/envs/police/lib/python3.9/site-packages/pandas/io/formats/format.py?line=380'>381</a>\u001b[0m     )\n",
      "File \u001b[0;32m~/anaconda3/envs/police/lib/python3.9/site-packages/pandas/io/formats/format.py:1316\u001b[0m, in \u001b[0;36mformat_array\u001b[0;34m(values, formatter, float_format, na_rep, digits, space, justify, decimal, leading_space, quoting)\u001b[0m\n\u001b[1;32m   <a href='file:///~/anaconda3/envs/police/lib/python3.9/site-packages/pandas/io/formats/format.py?line=1300'>1301</a>\u001b[0m     digits \u001b[39m=\u001b[39m get_option(\u001b[39m\"\u001b[39m\u001b[39mdisplay.precision\u001b[39m\u001b[39m\"\u001b[39m)\n\u001b[1;32m   <a href='file:///~/anaconda3/envs/police/lib/python3.9/site-packages/pandas/io/formats/format.py?line=1302'>1303</a>\u001b[0m fmt_obj \u001b[39m=\u001b[39m fmt_klass(\n\u001b[1;32m   <a href='file:///~/anaconda3/envs/police/lib/python3.9/site-packages/pandas/io/formats/format.py?line=1303'>1304</a>\u001b[0m     values,\n\u001b[1;32m   <a href='file:///~/anaconda3/envs/police/lib/python3.9/site-packages/pandas/io/formats/format.py?line=1304'>1305</a>\u001b[0m     digits\u001b[39m=\u001b[39mdigits,\n\u001b[0;32m   (...)\u001b[0m\n\u001b[1;32m   <a href='file:///~/anaconda3/envs/police/lib/python3.9/site-packages/pandas/io/formats/format.py?line=1312'>1313</a>\u001b[0m     quoting\u001b[39m=\u001b[39mquoting,\n\u001b[1;32m   <a href='file:///~/anaconda3/envs/police/lib/python3.9/site-packages/pandas/io/formats/format.py?line=1313'>1314</a>\u001b[0m )\n\u001b[0;32m-> <a href='file:///~/anaconda3/envs/police/lib/python3.9/site-packages/pandas/io/formats/format.py?line=1315'>1316</a>\u001b[0m \u001b[39mreturn\u001b[39;00m fmt_obj\u001b[39m.\u001b[39;49mget_result()\n",
      "File \u001b[0;32m~/anaconda3/envs/police/lib/python3.9/site-packages/pandas/io/formats/format.py:1347\u001b[0m, in \u001b[0;36mGenericArrayFormatter.get_result\u001b[0;34m(self)\u001b[0m\n\u001b[1;32m   <a href='file:///~/anaconda3/envs/police/lib/python3.9/site-packages/pandas/io/formats/format.py?line=1345'>1346</a>\u001b[0m \u001b[39mdef\u001b[39;00m \u001b[39mget_result\u001b[39m(\u001b[39mself\u001b[39m) \u001b[39m-\u001b[39m\u001b[39m>\u001b[39m \u001b[39mlist\u001b[39m[\u001b[39mstr\u001b[39m]:\n\u001b[0;32m-> <a href='file:///~/anaconda3/envs/police/lib/python3.9/site-packages/pandas/io/formats/format.py?line=1346'>1347</a>\u001b[0m     fmt_values \u001b[39m=\u001b[39m \u001b[39mself\u001b[39;49m\u001b[39m.\u001b[39;49m_format_strings()\n\u001b[1;32m   <a href='file:///~/anaconda3/envs/police/lib/python3.9/site-packages/pandas/io/formats/format.py?line=1347'>1348</a>\u001b[0m     \u001b[39mreturn\u001b[39;00m _make_fixed_width(fmt_values, \u001b[39mself\u001b[39m\u001b[39m.\u001b[39mjustify)\n",
      "File \u001b[0;32m~/anaconda3/envs/police/lib/python3.9/site-packages/pandas/io/formats/format.py:1410\u001b[0m, in \u001b[0;36mGenericArrayFormatter._format_strings\u001b[0;34m(self)\u001b[0m\n\u001b[1;32m   <a href='file:///~/anaconda3/envs/police/lib/python3.9/site-packages/pandas/io/formats/format.py?line=1407'>1408</a>\u001b[0m \u001b[39mfor\u001b[39;00m i, v \u001b[39min\u001b[39;00m \u001b[39menumerate\u001b[39m(vals):\n\u001b[1;32m   <a href='file:///~/anaconda3/envs/police/lib/python3.9/site-packages/pandas/io/formats/format.py?line=1408'>1409</a>\u001b[0m     \u001b[39mif\u001b[39;00m \u001b[39mnot\u001b[39;00m is_float_type[i] \u001b[39mand\u001b[39;00m leading_space:\n\u001b[0;32m-> <a href='file:///~/anaconda3/envs/police/lib/python3.9/site-packages/pandas/io/formats/format.py?line=1409'>1410</a>\u001b[0m         fmt_values\u001b[39m.\u001b[39mappend(\u001b[39mf\u001b[39m\u001b[39m\"\u001b[39m\u001b[39m \u001b[39m\u001b[39m{\u001b[39;00m_format(v)\u001b[39m}\u001b[39;00m\u001b[39m\"\u001b[39m)\n\u001b[1;32m   <a href='file:///~/anaconda3/envs/police/lib/python3.9/site-packages/pandas/io/formats/format.py?line=1410'>1411</a>\u001b[0m     \u001b[39melif\u001b[39;00m is_float_type[i]:\n\u001b[1;32m   <a href='file:///~/anaconda3/envs/police/lib/python3.9/site-packages/pandas/io/formats/format.py?line=1411'>1412</a>\u001b[0m         fmt_values\u001b[39m.\u001b[39mappend(float_format(v))\n",
      "File \u001b[0;32m~/anaconda3/envs/police/lib/python3.9/site-packages/pandas/io/formats/format.py:1390\u001b[0m, in \u001b[0;36mGenericArrayFormatter._format_strings.<locals>._format\u001b[0;34m(x)\u001b[0m\n\u001b[1;32m   <a href='file:///~/anaconda3/envs/police/lib/python3.9/site-packages/pandas/io/formats/format.py?line=1386'>1387</a>\u001b[0m     \u001b[39mreturn\u001b[39;00m \u001b[39mstr\u001b[39m(x)\n\u001b[1;32m   <a href='file:///~/anaconda3/envs/police/lib/python3.9/site-packages/pandas/io/formats/format.py?line=1387'>1388</a>\u001b[0m \u001b[39melse\u001b[39;00m:\n\u001b[1;32m   <a href='file:///~/anaconda3/envs/police/lib/python3.9/site-packages/pandas/io/formats/format.py?line=1388'>1389</a>\u001b[0m     \u001b[39m# object dtype\u001b[39;00m\n\u001b[0;32m-> <a href='file:///~/anaconda3/envs/police/lib/python3.9/site-packages/pandas/io/formats/format.py?line=1389'>1390</a>\u001b[0m     \u001b[39mreturn\u001b[39;00m \u001b[39mstr\u001b[39m(formatter(x))\n",
      "File \u001b[0;32m~/anaconda3/envs/police/lib/python3.9/site-packages/pandas/io/formats/printing.py:232\u001b[0m, in \u001b[0;36mpprint_thing\u001b[0;34m(thing, _nest_lvl, escape_chars, default_escapes, quote_strings, max_seq_items)\u001b[0m\n\u001b[1;32m    <a href='file:///~/anaconda3/envs/police/lib/python3.9/site-packages/pandas/io/formats/printing.py?line=229'>230</a>\u001b[0m     result \u001b[39m=\u001b[39m \u001b[39mf\u001b[39m\u001b[39m\"\u001b[39m\u001b[39m'\u001b[39m\u001b[39m{\u001b[39;00mas_escaped_string(thing)\u001b[39m}\u001b[39;00m\u001b[39m'\u001b[39m\u001b[39m\"\u001b[39m\n\u001b[1;32m    <a href='file:///~/anaconda3/envs/police/lib/python3.9/site-packages/pandas/io/formats/printing.py?line=230'>231</a>\u001b[0m \u001b[39melse\u001b[39;00m:\n\u001b[0;32m--> <a href='file:///~/anaconda3/envs/police/lib/python3.9/site-packages/pandas/io/formats/printing.py?line=231'>232</a>\u001b[0m     result \u001b[39m=\u001b[39m as_escaped_string(thing)\n\u001b[1;32m    <a href='file:///~/anaconda3/envs/police/lib/python3.9/site-packages/pandas/io/formats/printing.py?line=233'>234</a>\u001b[0m \u001b[39mreturn\u001b[39;00m result\n",
      "File \u001b[0;32m~/anaconda3/envs/police/lib/python3.9/site-packages/pandas/io/formats/printing.py:208\u001b[0m, in \u001b[0;36mpprint_thing.<locals>.as_escaped_string\u001b[0;34m(thing, escape_chars)\u001b[0m\n\u001b[1;32m    <a href='file:///~/anaconda3/envs/police/lib/python3.9/site-packages/pandas/io/formats/printing.py?line=204'>205</a>\u001b[0m \u001b[39melse\u001b[39;00m:\n\u001b[1;32m    <a href='file:///~/anaconda3/envs/police/lib/python3.9/site-packages/pandas/io/formats/printing.py?line=205'>206</a>\u001b[0m     escape_chars \u001b[39m=\u001b[39m escape_chars \u001b[39mor\u001b[39;00m ()\n\u001b[0;32m--> <a href='file:///~/anaconda3/envs/police/lib/python3.9/site-packages/pandas/io/formats/printing.py?line=207'>208</a>\u001b[0m result \u001b[39m=\u001b[39m \u001b[39mstr\u001b[39;49m(thing)\n\u001b[1;32m    <a href='file:///~/anaconda3/envs/police/lib/python3.9/site-packages/pandas/io/formats/printing.py?line=208'>209</a>\u001b[0m \u001b[39mfor\u001b[39;00m c \u001b[39min\u001b[39;00m escape_chars:\n\u001b[1;32m    <a href='file:///~/anaconda3/envs/police/lib/python3.9/site-packages/pandas/io/formats/printing.py?line=209'>210</a>\u001b[0m     result \u001b[39m=\u001b[39m result\u001b[39m.\u001b[39mreplace(c, translate[c])\n",
      "File \u001b[0;32m~/anaconda3/envs/police/lib/python3.9/site-packages/pandas/core/series.py:1504\u001b[0m, in \u001b[0;36mSeries.__repr__\u001b[0;34m(self)\u001b[0m\n\u001b[1;32m   <a href='file:///~/anaconda3/envs/police/lib/python3.9/site-packages/pandas/core/series.py?line=1499'>1500</a>\u001b[0m \u001b[39m\"\"\"\u001b[39;00m\n\u001b[1;32m   <a href='file:///~/anaconda3/envs/police/lib/python3.9/site-packages/pandas/core/series.py?line=1500'>1501</a>\u001b[0m \u001b[39mReturn a string representation for a particular Series.\u001b[39;00m\n\u001b[1;32m   <a href='file:///~/anaconda3/envs/police/lib/python3.9/site-packages/pandas/core/series.py?line=1501'>1502</a>\u001b[0m \u001b[39m\"\"\"\u001b[39;00m\n\u001b[1;32m   <a href='file:///~/anaconda3/envs/police/lib/python3.9/site-packages/pandas/core/series.py?line=1502'>1503</a>\u001b[0m repr_params \u001b[39m=\u001b[39m fmt\u001b[39m.\u001b[39mget_series_repr_params()\n\u001b[0;32m-> <a href='file:///~/anaconda3/envs/police/lib/python3.9/site-packages/pandas/core/series.py?line=1503'>1504</a>\u001b[0m \u001b[39mreturn\u001b[39;00m \u001b[39mself\u001b[39;49m\u001b[39m.\u001b[39;49mto_string(\u001b[39m*\u001b[39;49m\u001b[39m*\u001b[39;49mrepr_params)\n",
      "File \u001b[0;32m~/anaconda3/envs/police/lib/python3.9/site-packages/pandas/core/series.py:1553\u001b[0m, in \u001b[0;36mSeries.to_string\u001b[0;34m(self, buf, na_rep, float_format, header, index, length, dtype, name, max_rows, min_rows)\u001b[0m\n\u001b[1;32m   <a href='file:///~/anaconda3/envs/police/lib/python3.9/site-packages/pandas/core/series.py?line=1505'>1506</a>\u001b[0m \u001b[39mdef\u001b[39;00m \u001b[39mto_string\u001b[39m(\n\u001b[1;32m   <a href='file:///~/anaconda3/envs/police/lib/python3.9/site-packages/pandas/core/series.py?line=1506'>1507</a>\u001b[0m     \u001b[39mself\u001b[39m,\n\u001b[1;32m   <a href='file:///~/anaconda3/envs/police/lib/python3.9/site-packages/pandas/core/series.py?line=1507'>1508</a>\u001b[0m     buf\u001b[39m=\u001b[39m\u001b[39mNone\u001b[39;00m,\n\u001b[0;32m   (...)\u001b[0m\n\u001b[1;32m   <a href='file:///~/anaconda3/envs/police/lib/python3.9/site-packages/pandas/core/series.py?line=1516'>1517</a>\u001b[0m     min_rows\u001b[39m=\u001b[39m\u001b[39mNone\u001b[39;00m,\n\u001b[1;32m   <a href='file:///~/anaconda3/envs/police/lib/python3.9/site-packages/pandas/core/series.py?line=1517'>1518</a>\u001b[0m ):\n\u001b[1;32m   <a href='file:///~/anaconda3/envs/police/lib/python3.9/site-packages/pandas/core/series.py?line=1518'>1519</a>\u001b[0m     \u001b[39m\"\"\"\u001b[39;00m\n\u001b[1;32m   <a href='file:///~/anaconda3/envs/police/lib/python3.9/site-packages/pandas/core/series.py?line=1519'>1520</a>\u001b[0m \u001b[39m    Render a string representation of the Series.\u001b[39;00m\n\u001b[1;32m   <a href='file:///~/anaconda3/envs/police/lib/python3.9/site-packages/pandas/core/series.py?line=1520'>1521</a>\u001b[0m \n\u001b[0;32m   (...)\u001b[0m\n\u001b[1;32m   <a href='file:///~/anaconda3/envs/police/lib/python3.9/site-packages/pandas/core/series.py?line=1550'>1551</a>\u001b[0m \u001b[39m        String representation of Series if ``buf=None``, otherwise None.\u001b[39;00m\n\u001b[1;32m   <a href='file:///~/anaconda3/envs/police/lib/python3.9/site-packages/pandas/core/series.py?line=1551'>1552</a>\u001b[0m \u001b[39m    \"\"\"\u001b[39;00m\n\u001b[0;32m-> <a href='file:///~/anaconda3/envs/police/lib/python3.9/site-packages/pandas/core/series.py?line=1552'>1553</a>\u001b[0m     formatter \u001b[39m=\u001b[39m fmt\u001b[39m.\u001b[39;49mSeriesFormatter(\n\u001b[1;32m   <a href='file:///~/anaconda3/envs/police/lib/python3.9/site-packages/pandas/core/series.py?line=1553'>1554</a>\u001b[0m         \u001b[39mself\u001b[39;49m,\n\u001b[1;32m   <a href='file:///~/anaconda3/envs/police/lib/python3.9/site-packages/pandas/core/series.py?line=1554'>1555</a>\u001b[0m         name\u001b[39m=\u001b[39;49mname,\n\u001b[1;32m   <a href='file:///~/anaconda3/envs/police/lib/python3.9/site-packages/pandas/core/series.py?line=1555'>1556</a>\u001b[0m         length\u001b[39m=\u001b[39;49mlength,\n\u001b[1;32m   <a href='file:///~/anaconda3/envs/police/lib/python3.9/site-packages/pandas/core/series.py?line=1556'>1557</a>\u001b[0m         header\u001b[39m=\u001b[39;49mheader,\n\u001b[1;32m   <a href='file:///~/anaconda3/envs/police/lib/python3.9/site-packages/pandas/core/series.py?line=1557'>1558</a>\u001b[0m         index\u001b[39m=\u001b[39;49mindex,\n\u001b[1;32m   <a href='file:///~/anaconda3/envs/police/lib/python3.9/site-packages/pandas/core/series.py?line=1558'>1559</a>\u001b[0m         dtype\u001b[39m=\u001b[39;49mdtype,\n\u001b[1;32m   <a href='file:///~/anaconda3/envs/police/lib/python3.9/site-packages/pandas/core/series.py?line=1559'>1560</a>\u001b[0m         na_rep\u001b[39m=\u001b[39;49mna_rep,\n\u001b[1;32m   <a href='file:///~/anaconda3/envs/police/lib/python3.9/site-packages/pandas/core/series.py?line=1560'>1561</a>\u001b[0m         float_format\u001b[39m=\u001b[39;49mfloat_format,\n\u001b[1;32m   <a href='file:///~/anaconda3/envs/police/lib/python3.9/site-packages/pandas/core/series.py?line=1561'>1562</a>\u001b[0m         min_rows\u001b[39m=\u001b[39;49mmin_rows,\n\u001b[1;32m   <a href='file:///~/anaconda3/envs/police/lib/python3.9/site-packages/pandas/core/series.py?line=1562'>1563</a>\u001b[0m         max_rows\u001b[39m=\u001b[39;49mmax_rows,\n\u001b[1;32m   <a href='file:///~/anaconda3/envs/police/lib/python3.9/site-packages/pandas/core/series.py?line=1563'>1564</a>\u001b[0m     )\n\u001b[1;32m   <a href='file:///~/anaconda3/envs/police/lib/python3.9/site-packages/pandas/core/series.py?line=1564'>1565</a>\u001b[0m     result \u001b[39m=\u001b[39m formatter\u001b[39m.\u001b[39mto_string()\n\u001b[1;32m   <a href='file:///~/anaconda3/envs/police/lib/python3.9/site-packages/pandas/core/series.py?line=1566'>1567</a>\u001b[0m     \u001b[39m# catch contract violations\u001b[39;00m\n",
      "File \u001b[0;32m~/anaconda3/envs/police/lib/python3.9/site-packages/pandas/io/formats/format.py:293\u001b[0m, in \u001b[0;36mSeriesFormatter.__init__\u001b[0;34m(self, series, buf, length, header, index, na_rep, name, float_format, dtype, max_rows, min_rows)\u001b[0m\n\u001b[1;32m    <a href='file:///~/anaconda3/envs/police/lib/python3.9/site-packages/pandas/io/formats/format.py?line=289'>290</a>\u001b[0m \u001b[39mself\u001b[39m\u001b[39m.\u001b[39mdtype \u001b[39m=\u001b[39m dtype\n\u001b[1;32m    <a href='file:///~/anaconda3/envs/police/lib/python3.9/site-packages/pandas/io/formats/format.py?line=290'>291</a>\u001b[0m \u001b[39mself\u001b[39m\u001b[39m.\u001b[39madj \u001b[39m=\u001b[39m get_adjustment()\n\u001b[0;32m--> <a href='file:///~/anaconda3/envs/police/lib/python3.9/site-packages/pandas/io/formats/format.py?line=292'>293</a>\u001b[0m \u001b[39mself\u001b[39;49m\u001b[39m.\u001b[39;49m_chk_truncate()\n",
      "File \u001b[0;32m~/anaconda3/envs/police/lib/python3.9/site-packages/pandas/io/formats/format.py:315\u001b[0m, in \u001b[0;36mSeriesFormatter._chk_truncate\u001b[0;34m(self)\u001b[0m\n\u001b[1;32m    <a href='file:///~/anaconda3/envs/police/lib/python3.9/site-packages/pandas/io/formats/format.py?line=312'>313</a>\u001b[0m     \u001b[39melse\u001b[39;00m:\n\u001b[1;32m    <a href='file:///~/anaconda3/envs/police/lib/python3.9/site-packages/pandas/io/formats/format.py?line=313'>314</a>\u001b[0m         row_num \u001b[39m=\u001b[39m max_rows \u001b[39m/\u001b[39m\u001b[39m/\u001b[39m \u001b[39m2\u001b[39m\n\u001b[0;32m--> <a href='file:///~/anaconda3/envs/police/lib/python3.9/site-packages/pandas/io/formats/format.py?line=314'>315</a>\u001b[0m         series \u001b[39m=\u001b[39m concat((series\u001b[39m.\u001b[39;49miloc[:row_num], series\u001b[39m.\u001b[39;49miloc[\u001b[39m-\u001b[39;49mrow_num:]))\n\u001b[1;32m    <a href='file:///~/anaconda3/envs/police/lib/python3.9/site-packages/pandas/io/formats/format.py?line=315'>316</a>\u001b[0m     \u001b[39mself\u001b[39m\u001b[39m.\u001b[39mtr_row_num \u001b[39m=\u001b[39m row_num\n\u001b[1;32m    <a href='file:///~/anaconda3/envs/police/lib/python3.9/site-packages/pandas/io/formats/format.py?line=316'>317</a>\u001b[0m \u001b[39melse\u001b[39;00m:\n",
      "File \u001b[0;32m~/anaconda3/envs/police/lib/python3.9/site-packages/pandas/util/_decorators.py:311\u001b[0m, in \u001b[0;36mdeprecate_nonkeyword_arguments.<locals>.decorate.<locals>.wrapper\u001b[0;34m(*args, **kwargs)\u001b[0m\n\u001b[1;32m    <a href='file:///~/anaconda3/envs/police/lib/python3.9/site-packages/pandas/util/_decorators.py?line=304'>305</a>\u001b[0m \u001b[39mif\u001b[39;00m \u001b[39mlen\u001b[39m(args) \u001b[39m>\u001b[39m num_allow_args:\n\u001b[1;32m    <a href='file:///~/anaconda3/envs/police/lib/python3.9/site-packages/pandas/util/_decorators.py?line=305'>306</a>\u001b[0m     warnings\u001b[39m.\u001b[39mwarn(\n\u001b[1;32m    <a href='file:///~/anaconda3/envs/police/lib/python3.9/site-packages/pandas/util/_decorators.py?line=306'>307</a>\u001b[0m         msg\u001b[39m.\u001b[39mformat(arguments\u001b[39m=\u001b[39marguments),\n\u001b[1;32m    <a href='file:///~/anaconda3/envs/police/lib/python3.9/site-packages/pandas/util/_decorators.py?line=307'>308</a>\u001b[0m         \u001b[39mFutureWarning\u001b[39;00m,\n\u001b[1;32m    <a href='file:///~/anaconda3/envs/police/lib/python3.9/site-packages/pandas/util/_decorators.py?line=308'>309</a>\u001b[0m         stacklevel\u001b[39m=\u001b[39mstacklevel,\n\u001b[1;32m    <a href='file:///~/anaconda3/envs/police/lib/python3.9/site-packages/pandas/util/_decorators.py?line=309'>310</a>\u001b[0m     )\n\u001b[0;32m--> <a href='file:///~/anaconda3/envs/police/lib/python3.9/site-packages/pandas/util/_decorators.py?line=310'>311</a>\u001b[0m \u001b[39mreturn\u001b[39;00m func(\u001b[39m*\u001b[39;49margs, \u001b[39m*\u001b[39;49m\u001b[39m*\u001b[39;49mkwargs)\n",
      "File \u001b[0;32m~/anaconda3/envs/police/lib/python3.9/site-packages/pandas/core/reshape/concat.py:346\u001b[0m, in \u001b[0;36mconcat\u001b[0;34m(objs, axis, join, ignore_index, keys, levels, names, verify_integrity, sort, copy)\u001b[0m\n\u001b[1;32m    <a href='file:///~/anaconda3/envs/police/lib/python3.9/site-packages/pandas/core/reshape/concat.py?line=141'>142</a>\u001b[0m \u001b[39m@deprecate_nonkeyword_arguments\u001b[39m(version\u001b[39m=\u001b[39m\u001b[39mNone\u001b[39;00m, allowed_args\u001b[39m=\u001b[39m[\u001b[39m\"\u001b[39m\u001b[39mobjs\u001b[39m\u001b[39m\"\u001b[39m])\n\u001b[1;32m    <a href='file:///~/anaconda3/envs/police/lib/python3.9/site-packages/pandas/core/reshape/concat.py?line=142'>143</a>\u001b[0m \u001b[39mdef\u001b[39;00m \u001b[39mconcat\u001b[39m(\n\u001b[1;32m    <a href='file:///~/anaconda3/envs/police/lib/python3.9/site-packages/pandas/core/reshape/concat.py?line=143'>144</a>\u001b[0m     objs: Iterable[NDFrame] \u001b[39m|\u001b[39m Mapping[Hashable, NDFrame],\n\u001b[0;32m   (...)\u001b[0m\n\u001b[1;32m    <a href='file:///~/anaconda3/envs/police/lib/python3.9/site-packages/pandas/core/reshape/concat.py?line=152'>153</a>\u001b[0m     copy: \u001b[39mbool\u001b[39m \u001b[39m=\u001b[39m \u001b[39mTrue\u001b[39;00m,\n\u001b[1;32m    <a href='file:///~/anaconda3/envs/police/lib/python3.9/site-packages/pandas/core/reshape/concat.py?line=153'>154</a>\u001b[0m ) \u001b[39m-\u001b[39m\u001b[39m>\u001b[39m DataFrame \u001b[39m|\u001b[39m Series:\n\u001b[1;32m    <a href='file:///~/anaconda3/envs/police/lib/python3.9/site-packages/pandas/core/reshape/concat.py?line=154'>155</a>\u001b[0m     \u001b[39m\"\"\"\u001b[39;00m\n\u001b[1;32m    <a href='file:///~/anaconda3/envs/police/lib/python3.9/site-packages/pandas/core/reshape/concat.py?line=155'>156</a>\u001b[0m \u001b[39m    Concatenate pandas objects along a particular axis with optional set logic\u001b[39;00m\n\u001b[1;32m    <a href='file:///~/anaconda3/envs/police/lib/python3.9/site-packages/pandas/core/reshape/concat.py?line=156'>157</a>\u001b[0m \u001b[39m    along the other axes.\u001b[39;00m\n\u001b[0;32m   (...)\u001b[0m\n\u001b[1;32m    <a href='file:///~/anaconda3/envs/police/lib/python3.9/site-packages/pandas/core/reshape/concat.py?line=343'>344</a>\u001b[0m \u001b[39m    ValueError: Indexes have overlapping values: ['a']\u001b[39;00m\n\u001b[1;32m    <a href='file:///~/anaconda3/envs/police/lib/python3.9/site-packages/pandas/core/reshape/concat.py?line=344'>345</a>\u001b[0m \u001b[39m    \"\"\"\u001b[39;00m\n\u001b[0;32m--> <a href='file:///~/anaconda3/envs/police/lib/python3.9/site-packages/pandas/core/reshape/concat.py?line=345'>346</a>\u001b[0m     op \u001b[39m=\u001b[39m _Concatenator(\n\u001b[1;32m    <a href='file:///~/anaconda3/envs/police/lib/python3.9/site-packages/pandas/core/reshape/concat.py?line=346'>347</a>\u001b[0m         objs,\n\u001b[1;32m    <a href='file:///~/anaconda3/envs/police/lib/python3.9/site-packages/pandas/core/reshape/concat.py?line=347'>348</a>\u001b[0m         axis\u001b[39m=\u001b[39;49maxis,\n\u001b[1;32m    <a href='file:///~/anaconda3/envs/police/lib/python3.9/site-packages/pandas/core/reshape/concat.py?line=348'>349</a>\u001b[0m         ignore_index\u001b[39m=\u001b[39;49mignore_index,\n\u001b[1;32m    <a href='file:///~/anaconda3/envs/police/lib/python3.9/site-packages/pandas/core/reshape/concat.py?line=349'>350</a>\u001b[0m         join\u001b[39m=\u001b[39;49mjoin,\n\u001b[1;32m    <a href='file:///~/anaconda3/envs/police/lib/python3.9/site-packages/pandas/core/reshape/concat.py?line=350'>351</a>\u001b[0m         keys\u001b[39m=\u001b[39;49mkeys,\n\u001b[1;32m    <a href='file:///~/anaconda3/envs/police/lib/python3.9/site-packages/pandas/core/reshape/concat.py?line=351'>352</a>\u001b[0m         levels\u001b[39m=\u001b[39;49mlevels,\n\u001b[1;32m    <a href='file:///~/anaconda3/envs/police/lib/python3.9/site-packages/pandas/core/reshape/concat.py?line=352'>353</a>\u001b[0m         names\u001b[39m=\u001b[39;49mnames,\n\u001b[1;32m    <a href='file:///~/anaconda3/envs/police/lib/python3.9/site-packages/pandas/core/reshape/concat.py?line=353'>354</a>\u001b[0m         verify_integrity\u001b[39m=\u001b[39;49mverify_integrity,\n\u001b[1;32m    <a href='file:///~/anaconda3/envs/police/lib/python3.9/site-packages/pandas/core/reshape/concat.py?line=354'>355</a>\u001b[0m         copy\u001b[39m=\u001b[39;49mcopy,\n\u001b[1;32m    <a href='file:///~/anaconda3/envs/police/lib/python3.9/site-packages/pandas/core/reshape/concat.py?line=355'>356</a>\u001b[0m         sort\u001b[39m=\u001b[39;49msort,\n\u001b[1;32m    <a href='file:///~/anaconda3/envs/police/lib/python3.9/site-packages/pandas/core/reshape/concat.py?line=356'>357</a>\u001b[0m     )\n\u001b[1;32m    <a href='file:///~/anaconda3/envs/police/lib/python3.9/site-packages/pandas/core/reshape/concat.py?line=358'>359</a>\u001b[0m     \u001b[39mreturn\u001b[39;00m op\u001b[39m.\u001b[39mget_result()\n",
      "File \u001b[0;32m~/anaconda3/envs/police/lib/python3.9/site-packages/pandas/core/reshape/concat.py:539\u001b[0m, in \u001b[0;36m_Concatenator.__init__\u001b[0;34m(self, objs, axis, join, keys, levels, names, ignore_index, verify_integrity, copy, sort)\u001b[0m\n\u001b[1;32m    <a href='file:///~/anaconda3/envs/police/lib/python3.9/site-packages/pandas/core/reshape/concat.py?line=535'>536</a>\u001b[0m \u001b[39mself\u001b[39m\u001b[39m.\u001b[39mverify_integrity \u001b[39m=\u001b[39m verify_integrity\n\u001b[1;32m    <a href='file:///~/anaconda3/envs/police/lib/python3.9/site-packages/pandas/core/reshape/concat.py?line=536'>537</a>\u001b[0m \u001b[39mself\u001b[39m\u001b[39m.\u001b[39mcopy \u001b[39m=\u001b[39m copy\n\u001b[0;32m--> <a href='file:///~/anaconda3/envs/police/lib/python3.9/site-packages/pandas/core/reshape/concat.py?line=538'>539</a>\u001b[0m \u001b[39mself\u001b[39m\u001b[39m.\u001b[39mnew_axes \u001b[39m=\u001b[39m \u001b[39mself\u001b[39;49m\u001b[39m.\u001b[39;49m_get_new_axes()\n",
      "File \u001b[0;32m~/anaconda3/envs/police/lib/python3.9/site-packages/pandas/core/reshape/concat.py:609\u001b[0m, in \u001b[0;36m_Concatenator._get_new_axes\u001b[0;34m(self)\u001b[0m\n\u001b[1;32m    <a href='file:///~/anaconda3/envs/police/lib/python3.9/site-packages/pandas/core/reshape/concat.py?line=606'>607</a>\u001b[0m \u001b[39mdef\u001b[39;00m \u001b[39m_get_new_axes\u001b[39m(\u001b[39mself\u001b[39m) \u001b[39m-\u001b[39m\u001b[39m>\u001b[39m \u001b[39mlist\u001b[39m[Index]:\n\u001b[1;32m    <a href='file:///~/anaconda3/envs/police/lib/python3.9/site-packages/pandas/core/reshape/concat.py?line=607'>608</a>\u001b[0m     ndim \u001b[39m=\u001b[39m \u001b[39mself\u001b[39m\u001b[39m.\u001b[39m_get_result_dim()\n\u001b[0;32m--> <a href='file:///~/anaconda3/envs/police/lib/python3.9/site-packages/pandas/core/reshape/concat.py?line=608'>609</a>\u001b[0m     \u001b[39mreturn\u001b[39;00m [\n\u001b[1;32m    <a href='file:///~/anaconda3/envs/police/lib/python3.9/site-packages/pandas/core/reshape/concat.py?line=609'>610</a>\u001b[0m         \u001b[39mself\u001b[39m\u001b[39m.\u001b[39m_get_concat_axis \u001b[39mif\u001b[39;00m i \u001b[39m==\u001b[39m \u001b[39mself\u001b[39m\u001b[39m.\u001b[39mbm_axis \u001b[39melse\u001b[39;00m \u001b[39mself\u001b[39m\u001b[39m.\u001b[39m_get_comb_axis(i)\n\u001b[1;32m    <a href='file:///~/anaconda3/envs/police/lib/python3.9/site-packages/pandas/core/reshape/concat.py?line=610'>611</a>\u001b[0m         \u001b[39mfor\u001b[39;00m i \u001b[39min\u001b[39;00m \u001b[39mrange\u001b[39m(ndim)\n\u001b[1;32m    <a href='file:///~/anaconda3/envs/police/lib/python3.9/site-packages/pandas/core/reshape/concat.py?line=611'>612</a>\u001b[0m     ]\n",
      "File \u001b[0;32m~/anaconda3/envs/police/lib/python3.9/site-packages/pandas/core/reshape/concat.py:610\u001b[0m, in \u001b[0;36m<listcomp>\u001b[0;34m(.0)\u001b[0m\n\u001b[1;32m    <a href='file:///~/anaconda3/envs/police/lib/python3.9/site-packages/pandas/core/reshape/concat.py?line=606'>607</a>\u001b[0m \u001b[39mdef\u001b[39;00m \u001b[39m_get_new_axes\u001b[39m(\u001b[39mself\u001b[39m) \u001b[39m-\u001b[39m\u001b[39m>\u001b[39m \u001b[39mlist\u001b[39m[Index]:\n\u001b[1;32m    <a href='file:///~/anaconda3/envs/police/lib/python3.9/site-packages/pandas/core/reshape/concat.py?line=607'>608</a>\u001b[0m     ndim \u001b[39m=\u001b[39m \u001b[39mself\u001b[39m\u001b[39m.\u001b[39m_get_result_dim()\n\u001b[1;32m    <a href='file:///~/anaconda3/envs/police/lib/python3.9/site-packages/pandas/core/reshape/concat.py?line=608'>609</a>\u001b[0m     \u001b[39mreturn\u001b[39;00m [\n\u001b[0;32m--> <a href='file:///~/anaconda3/envs/police/lib/python3.9/site-packages/pandas/core/reshape/concat.py?line=609'>610</a>\u001b[0m         \u001b[39mself\u001b[39;49m\u001b[39m.\u001b[39;49m_get_concat_axis \u001b[39mif\u001b[39;00m i \u001b[39m==\u001b[39m \u001b[39mself\u001b[39m\u001b[39m.\u001b[39mbm_axis \u001b[39melse\u001b[39;00m \u001b[39mself\u001b[39m\u001b[39m.\u001b[39m_get_comb_axis(i)\n\u001b[1;32m    <a href='file:///~/anaconda3/envs/police/lib/python3.9/site-packages/pandas/core/reshape/concat.py?line=610'>611</a>\u001b[0m         \u001b[39mfor\u001b[39;00m i \u001b[39min\u001b[39;00m \u001b[39mrange\u001b[39m(ndim)\n\u001b[1;32m    <a href='file:///~/anaconda3/envs/police/lib/python3.9/site-packages/pandas/core/reshape/concat.py?line=611'>612</a>\u001b[0m     ]\n",
      "File \u001b[0;32m~/anaconda3/envs/police/lib/python3.9/site-packages/pandas/_libs/properties.pyx:37\u001b[0m, in \u001b[0;36mpandas._libs.properties.CachedProperty.__get__\u001b[0;34m()\u001b[0m\n",
      "File \u001b[0;32m~/anaconda3/envs/police/lib/python3.9/site-packages/pandas/core/reshape/concat.py:665\u001b[0m, in \u001b[0;36m_Concatenator._get_concat_axis\u001b[0;34m(self)\u001b[0m\n\u001b[1;32m    <a href='file:///~/anaconda3/envs/police/lib/python3.9/site-packages/pandas/core/reshape/concat.py?line=661'>662</a>\u001b[0m     \u001b[39mreturn\u001b[39;00m idx\n\u001b[1;32m    <a href='file:///~/anaconda3/envs/police/lib/python3.9/site-packages/pandas/core/reshape/concat.py?line=663'>664</a>\u001b[0m \u001b[39mif\u001b[39;00m \u001b[39mself\u001b[39m\u001b[39m.\u001b[39mkeys \u001b[39mis\u001b[39;00m \u001b[39mNone\u001b[39;00m:\n\u001b[0;32m--> <a href='file:///~/anaconda3/envs/police/lib/python3.9/site-packages/pandas/core/reshape/concat.py?line=664'>665</a>\u001b[0m     concat_axis \u001b[39m=\u001b[39m _concat_indexes(indexes)\n\u001b[1;32m    <a href='file:///~/anaconda3/envs/police/lib/python3.9/site-packages/pandas/core/reshape/concat.py?line=665'>666</a>\u001b[0m \u001b[39melse\u001b[39;00m:\n\u001b[1;32m    <a href='file:///~/anaconda3/envs/police/lib/python3.9/site-packages/pandas/core/reshape/concat.py?line=666'>667</a>\u001b[0m     concat_axis \u001b[39m=\u001b[39m _make_concat_multiindex(\n\u001b[1;32m    <a href='file:///~/anaconda3/envs/police/lib/python3.9/site-packages/pandas/core/reshape/concat.py?line=667'>668</a>\u001b[0m         indexes, \u001b[39mself\u001b[39m\u001b[39m.\u001b[39mkeys, \u001b[39mself\u001b[39m\u001b[39m.\u001b[39mlevels, \u001b[39mself\u001b[39m\u001b[39m.\u001b[39mnames\n\u001b[1;32m    <a href='file:///~/anaconda3/envs/police/lib/python3.9/site-packages/pandas/core/reshape/concat.py?line=668'>669</a>\u001b[0m     )\n",
      "File \u001b[0;32m~/anaconda3/envs/police/lib/python3.9/site-packages/pandas/core/reshape/concat.py:683\u001b[0m, in \u001b[0;36m_concat_indexes\u001b[0;34m(indexes)\u001b[0m\n\u001b[1;32m    <a href='file:///~/anaconda3/envs/police/lib/python3.9/site-packages/pandas/core/reshape/concat.py?line=681'>682</a>\u001b[0m \u001b[39mdef\u001b[39;00m \u001b[39m_concat_indexes\u001b[39m(indexes) \u001b[39m-\u001b[39m\u001b[39m>\u001b[39m Index:\n\u001b[0;32m--> <a href='file:///~/anaconda3/envs/police/lib/python3.9/site-packages/pandas/core/reshape/concat.py?line=682'>683</a>\u001b[0m     \u001b[39mreturn\u001b[39;00m indexes[\u001b[39m0\u001b[39;49m]\u001b[39m.\u001b[39;49mappend(indexes[\u001b[39m1\u001b[39;49m:])\n",
      "File \u001b[0;32m~/anaconda3/envs/police/lib/python3.9/site-packages/pandas/core/indexes/base.py:5120\u001b[0m, in \u001b[0;36mIndex.append\u001b[0;34m(self, other)\u001b[0m\n\u001b[1;32m   <a href='file:///~/anaconda3/envs/police/lib/python3.9/site-packages/pandas/core/indexes/base.py?line=5116'>5117</a>\u001b[0m names \u001b[39m=\u001b[39m {obj\u001b[39m.\u001b[39mname \u001b[39mfor\u001b[39;00m obj \u001b[39min\u001b[39;00m to_concat}\n\u001b[1;32m   <a href='file:///~/anaconda3/envs/police/lib/python3.9/site-packages/pandas/core/indexes/base.py?line=5117'>5118</a>\u001b[0m name \u001b[39m=\u001b[39m \u001b[39mNone\u001b[39;00m \u001b[39mif\u001b[39;00m \u001b[39mlen\u001b[39m(names) \u001b[39m>\u001b[39m \u001b[39m1\u001b[39m \u001b[39melse\u001b[39;00m \u001b[39mself\u001b[39m\u001b[39m.\u001b[39mname\n\u001b[0;32m-> <a href='file:///~/anaconda3/envs/police/lib/python3.9/site-packages/pandas/core/indexes/base.py?line=5119'>5120</a>\u001b[0m \u001b[39mreturn\u001b[39;00m \u001b[39mself\u001b[39;49m\u001b[39m.\u001b[39;49m_concat(to_concat, name)\n",
      "File \u001b[0;32m~/anaconda3/envs/police/lib/python3.9/site-packages/pandas/core/indexes/range.py:893\u001b[0m, in \u001b[0;36mRangeIndex._concat\u001b[0;34m(self, indexes, name)\u001b[0m\n\u001b[1;32m    <a href='file:///~/anaconda3/envs/police/lib/python3.9/site-packages/pandas/core/indexes/range.py?line=888'>889</a>\u001b[0m non_consecutive \u001b[39m=\u001b[39m (step \u001b[39m!=\u001b[39m rng\u001b[39m.\u001b[39mstep \u001b[39mand\u001b[39;00m \u001b[39mlen\u001b[39m(rng) \u001b[39m>\u001b[39m \u001b[39m1\u001b[39m) \u001b[39mor\u001b[39;00m (\n\u001b[1;32m    <a href='file:///~/anaconda3/envs/police/lib/python3.9/site-packages/pandas/core/indexes/range.py?line=889'>890</a>\u001b[0m     next_ \u001b[39mis\u001b[39;00m \u001b[39mnot\u001b[39;00m \u001b[39mNone\u001b[39;00m \u001b[39mand\u001b[39;00m rng\u001b[39m.\u001b[39mstart \u001b[39m!=\u001b[39m next_\n\u001b[1;32m    <a href='file:///~/anaconda3/envs/police/lib/python3.9/site-packages/pandas/core/indexes/range.py?line=890'>891</a>\u001b[0m )\n\u001b[1;32m    <a href='file:///~/anaconda3/envs/police/lib/python3.9/site-packages/pandas/core/indexes/range.py?line=891'>892</a>\u001b[0m \u001b[39mif\u001b[39;00m non_consecutive:\n\u001b[0;32m--> <a href='file:///~/anaconda3/envs/police/lib/python3.9/site-packages/pandas/core/indexes/range.py?line=892'>893</a>\u001b[0m     result \u001b[39m=\u001b[39m Int64Index(np\u001b[39m.\u001b[39;49mconcatenate([x\u001b[39m.\u001b[39;49m_values \u001b[39mfor\u001b[39;49;00m x \u001b[39min\u001b[39;49;00m rng_indexes]))\n\u001b[1;32m    <a href='file:///~/anaconda3/envs/police/lib/python3.9/site-packages/pandas/core/indexes/range.py?line=893'>894</a>\u001b[0m     \u001b[39mreturn\u001b[39;00m result\u001b[39m.\u001b[39mrename(name)\n\u001b[1;32m    <a href='file:///~/anaconda3/envs/police/lib/python3.9/site-packages/pandas/core/indexes/range.py?line=895'>896</a>\u001b[0m \u001b[39mif\u001b[39;00m step \u001b[39mis\u001b[39;00m \u001b[39mnot\u001b[39;00m \u001b[39mNone\u001b[39;00m:\n",
      "File \u001b[0;32m~/anaconda3/envs/police/lib/python3.9/site-packages/pandas/core/indexes/numeric.py:134\u001b[0m, in \u001b[0;36mNumericIndex.__new__\u001b[0;34m(cls, data, dtype, copy, name)\u001b[0m\n\u001b[1;32m    <a href='file:///~/anaconda3/envs/police/lib/python3.9/site-packages/pandas/core/indexes/numeric.py?line=132'>133</a>\u001b[0m \u001b[39mdef\u001b[39;00m \u001b[39m__new__\u001b[39m(\u001b[39mcls\u001b[39m, data\u001b[39m=\u001b[39m\u001b[39mNone\u001b[39;00m, dtype: Dtype \u001b[39m|\u001b[39m \u001b[39mNone\u001b[39;00m \u001b[39m=\u001b[39m \u001b[39mNone\u001b[39;00m, copy\u001b[39m=\u001b[39m\u001b[39mFalse\u001b[39;00m, name\u001b[39m=\u001b[39m\u001b[39mNone\u001b[39;00m):\n\u001b[0;32m--> <a href='file:///~/anaconda3/envs/police/lib/python3.9/site-packages/pandas/core/indexes/numeric.py?line=133'>134</a>\u001b[0m     name \u001b[39m=\u001b[39m maybe_extract_name(name, data, \u001b[39mcls\u001b[39;49m)\n\u001b[1;32m    <a href='file:///~/anaconda3/envs/police/lib/python3.9/site-packages/pandas/core/indexes/numeric.py?line=135'>136</a>\u001b[0m     subarr \u001b[39m=\u001b[39m \u001b[39mcls\u001b[39m\u001b[39m.\u001b[39m_ensure_array(data, dtype, copy)\n\u001b[1;32m    <a href='file:///~/anaconda3/envs/police/lib/python3.9/site-packages/pandas/core/indexes/numeric.py?line=136'>137</a>\u001b[0m     \u001b[39mreturn\u001b[39;00m \u001b[39mcls\u001b[39m\u001b[39m.\u001b[39m_simple_new(subarr, name\u001b[39m=\u001b[39mname)\n",
      "File \u001b[0;32m~/anaconda3/envs/police/lib/python3.9/site-packages/pandas/core/indexes/base.py:7086\u001b[0m, in \u001b[0;36mmaybe_extract_name\u001b[0;34m(name, obj, cls)\u001b[0m\n\u001b[1;32m   <a href='file:///~/anaconda3/envs/police/lib/python3.9/site-packages/pandas/core/indexes/base.py?line=7081'>7082</a>\u001b[0m \u001b[39mdef\u001b[39;00m \u001b[39mmaybe_extract_name\u001b[39m(name, obj, \u001b[39mcls\u001b[39m) \u001b[39m-\u001b[39m\u001b[39m>\u001b[39m Hashable:\n\u001b[1;32m   <a href='file:///~/anaconda3/envs/police/lib/python3.9/site-packages/pandas/core/indexes/base.py?line=7082'>7083</a>\u001b[0m     \u001b[39m\"\"\"\u001b[39;00m\n\u001b[1;32m   <a href='file:///~/anaconda3/envs/police/lib/python3.9/site-packages/pandas/core/indexes/base.py?line=7083'>7084</a>\u001b[0m \u001b[39m    If no name is passed, then extract it from data, validating hashability.\u001b[39;00m\n\u001b[1;32m   <a href='file:///~/anaconda3/envs/police/lib/python3.9/site-packages/pandas/core/indexes/base.py?line=7084'>7085</a>\u001b[0m \u001b[39m    \"\"\"\u001b[39;00m\n\u001b[0;32m-> <a href='file:///~/anaconda3/envs/police/lib/python3.9/site-packages/pandas/core/indexes/base.py?line=7085'>7086</a>\u001b[0m     \u001b[39mif\u001b[39;00m name \u001b[39mis\u001b[39;00m \u001b[39mNone\u001b[39;00m \u001b[39mand\u001b[39;00m \u001b[39misinstance\u001b[39;49m(obj, (Index, ABCSeries)):\n\u001b[1;32m   <a href='file:///~/anaconda3/envs/police/lib/python3.9/site-packages/pandas/core/indexes/base.py?line=7086'>7087</a>\u001b[0m         \u001b[39m# Note we don't just check for \"name\" attribute since that would\u001b[39;00m\n\u001b[1;32m   <a href='file:///~/anaconda3/envs/police/lib/python3.9/site-packages/pandas/core/indexes/base.py?line=7087'>7088</a>\u001b[0m         \u001b[39m#  pick up e.g. dtype.name\u001b[39;00m\n\u001b[1;32m   <a href='file:///~/anaconda3/envs/police/lib/python3.9/site-packages/pandas/core/indexes/base.py?line=7088'>7089</a>\u001b[0m         name \u001b[39m=\u001b[39m obj\u001b[39m.\u001b[39mname\n\u001b[1;32m   <a href='file:///~/anaconda3/envs/police/lib/python3.9/site-packages/pandas/core/indexes/base.py?line=7090'>7091</a>\u001b[0m     \u001b[39m# GH#29069\u001b[39;00m\n",
      "File \u001b[0;32m~/anaconda3/envs/police/lib/python3.9/site-packages/pandas/core/dtypes/generic.py:45\u001b[0m, in \u001b[0;36mcreate_pandas_abc_type.<locals>._check\u001b[0;34m(cls, inst)\u001b[0m\n\u001b[1;32m     <a href='file:///~/anaconda3/envs/police/lib/python3.9/site-packages/pandas/core/dtypes/generic.py?line=42'>43</a>\u001b[0m \u001b[39m@classmethod\u001b[39m  \u001b[39m# type: ignore[misc]\u001b[39;00m\n\u001b[1;32m     <a href='file:///~/anaconda3/envs/police/lib/python3.9/site-packages/pandas/core/dtypes/generic.py?line=43'>44</a>\u001b[0m \u001b[39mdef\u001b[39;00m \u001b[39m_check\u001b[39m(\u001b[39mcls\u001b[39m, inst) \u001b[39m-\u001b[39m\u001b[39m>\u001b[39m \u001b[39mbool\u001b[39m:\n\u001b[0;32m---> <a href='file:///~/anaconda3/envs/police/lib/python3.9/site-packages/pandas/core/dtypes/generic.py?line=44'>45</a>\u001b[0m     \u001b[39mreturn\u001b[39;00m \u001b[39mgetattr\u001b[39;49m(inst, attr, \u001b[39m\"\u001b[39;49m\u001b[39m_typ\u001b[39;49m\u001b[39m\"\u001b[39;49m) \u001b[39min\u001b[39;00m comp\n",
      "\u001b[0;31mRecursionError\u001b[0m: maximum recursion depth exceeded while calling a Python object"
     ]
    }
   ],
   "source": [
    "df_fatalities.to_csv(\"PoliceKillingsUS_cleaned.csv\", index=False)\n"
   ]
  }
 ],
 "metadata": {
  "kernelspec": {
   "display_name": "Python 3 (ipykernel)",
   "language": "python",
   "name": "python3"
  },
  "language_info": {
   "codemirror_mode": {
    "name": "ipython",
    "version": 3
   },
   "file_extension": ".py",
   "mimetype": "text/x-python",
   "name": "python",
   "nbconvert_exporter": "python",
   "pygments_lexer": "ipython3",
   "version": "3.9.7"
  }
 },
 "nbformat": 4,
 "nbformat_minor": 5
}
